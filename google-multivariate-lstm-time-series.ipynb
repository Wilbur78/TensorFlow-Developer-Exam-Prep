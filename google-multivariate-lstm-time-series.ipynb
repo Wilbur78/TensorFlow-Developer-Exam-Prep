{
  "nbformat": 4,
  "nbformat_minor": 0,
  "metadata": {
    "colab": {
      "provenance": []
    },
    "kernelspec": {
      "name": "python3",
      "display_name": "Python 3"
    },
    "language_info": {
      "name": "python"
    }
  },
  "cells": [
    {
      "cell_type": "code",
      "execution_count": null,
      "metadata": {
        "colab": {
          "base_uri": "https://localhost:8080/"
        },
        "id": "Oo089xCL5nHl",
        "outputId": "84452bfd-170c-4013-a78a-7a5b859b5471"
      },
      "outputs": [
        {
          "output_type": "stream",
          "name": "stdout",
          "text": [
            "Looking in indexes: https://pypi.org/simple, https://us-python.pkg.dev/colab-wheels/public/simple/\n",
            "Requirement already satisfied: datasets in /usr/local/lib/python3.10/dist-packages (2.12.0)\n",
            "Requirement already satisfied: huggingface-hub<1.0.0,>=0.11.0 in /usr/local/lib/python3.10/dist-packages (from datasets) (0.14.1)\n",
            "Requirement already satisfied: dill<0.3.7,>=0.3.0 in /usr/local/lib/python3.10/dist-packages (from datasets) (0.3.6)\n",
            "Requirement already satisfied: responses<0.19 in /usr/local/lib/python3.10/dist-packages (from datasets) (0.18.0)\n",
            "Requirement already satisfied: numpy>=1.17 in /usr/local/lib/python3.10/dist-packages (from datasets) (1.22.4)\n",
            "Requirement already satisfied: multiprocess in /usr/local/lib/python3.10/dist-packages (from datasets) (0.70.14)\n",
            "Requirement already satisfied: tqdm>=4.62.1 in /usr/local/lib/python3.10/dist-packages (from datasets) (4.65.0)\n",
            "Requirement already satisfied: requests>=2.19.0 in /usr/local/lib/python3.10/dist-packages (from datasets) (2.27.1)\n",
            "Requirement already satisfied: pandas in /usr/local/lib/python3.10/dist-packages (from datasets) (1.5.3)\n",
            "Requirement already satisfied: xxhash in /usr/local/lib/python3.10/dist-packages (from datasets) (3.2.0)\n",
            "Requirement already satisfied: pyyaml>=5.1 in /usr/local/lib/python3.10/dist-packages (from datasets) (6.0)\n",
            "Requirement already satisfied: packaging in /usr/local/lib/python3.10/dist-packages (from datasets) (23.1)\n",
            "Requirement already satisfied: fsspec[http]>=2021.11.1 in /usr/local/lib/python3.10/dist-packages (from datasets) (2023.4.0)\n",
            "Requirement already satisfied: pyarrow>=8.0.0 in /usr/local/lib/python3.10/dist-packages (from datasets) (9.0.0)\n",
            "Requirement already satisfied: aiohttp in /usr/local/lib/python3.10/dist-packages (from datasets) (3.8.4)\n",
            "Requirement already satisfied: async-timeout<5.0,>=4.0.0a3 in /usr/local/lib/python3.10/dist-packages (from aiohttp->datasets) (4.0.2)\n",
            "Requirement already satisfied: frozenlist>=1.1.1 in /usr/local/lib/python3.10/dist-packages (from aiohttp->datasets) (1.3.3)\n",
            "Requirement already satisfied: multidict<7.0,>=4.5 in /usr/local/lib/python3.10/dist-packages (from aiohttp->datasets) (6.0.4)\n",
            "Requirement already satisfied: attrs>=17.3.0 in /usr/local/lib/python3.10/dist-packages (from aiohttp->datasets) (23.1.0)\n",
            "Requirement already satisfied: aiosignal>=1.1.2 in /usr/local/lib/python3.10/dist-packages (from aiohttp->datasets) (1.3.1)\n",
            "Requirement already satisfied: yarl<2.0,>=1.0 in /usr/local/lib/python3.10/dist-packages (from aiohttp->datasets) (1.9.2)\n",
            "Requirement already satisfied: charset-normalizer<4.0,>=2.0 in /usr/local/lib/python3.10/dist-packages (from aiohttp->datasets) (2.0.12)\n",
            "Requirement already satisfied: filelock in /usr/local/lib/python3.10/dist-packages (from huggingface-hub<1.0.0,>=0.11.0->datasets) (3.12.0)\n",
            "Requirement already satisfied: typing-extensions>=3.7.4.3 in /usr/local/lib/python3.10/dist-packages (from huggingface-hub<1.0.0,>=0.11.0->datasets) (4.5.0)\n",
            "Requirement already satisfied: certifi>=2017.4.17 in /usr/local/lib/python3.10/dist-packages (from requests>=2.19.0->datasets) (2022.12.7)\n",
            "Requirement already satisfied: idna<4,>=2.5 in /usr/local/lib/python3.10/dist-packages (from requests>=2.19.0->datasets) (3.4)\n",
            "Requirement already satisfied: urllib3<1.27,>=1.21.1 in /usr/local/lib/python3.10/dist-packages (from requests>=2.19.0->datasets) (1.26.15)\n",
            "Requirement already satisfied: pytz>=2020.1 in /usr/local/lib/python3.10/dist-packages (from pandas->datasets) (2022.7.1)\n",
            "Requirement already satisfied: python-dateutil>=2.8.1 in /usr/local/lib/python3.10/dist-packages (from pandas->datasets) (2.8.2)\n",
            "Requirement already satisfied: six>=1.5 in /usr/local/lib/python3.10/dist-packages (from python-dateutil>=2.8.1->pandas->datasets) (1.16.0)\n"
          ]
        }
      ],
      "source": [
        "import tensorflow as tf\n",
        "import tensorflow_datasets as tfds\n",
        "\n",
        "import pandas as pd\n",
        "import numpy as np\n",
        "import matplotlib.pyplot as plt\n",
        "\n",
        "!pip install datasets\n",
        "import datasets\n",
        "\n",
        "from tensorflow.keras import Sequential, layers, losses, optimizers, callbacks"
      ]
    },
    {
      "cell_type": "markdown",
      "source": [
        "'archive (12).zip' is the file containing the data for this notebook."
      ],
      "metadata": {
        "id": "iZw70QW76sDB"
      }
    },
    {
      "cell_type": "code",
      "source": [
        "import zipfile\n",
        "import os\n",
        "\n",
        "home_dir = '/content/'\n",
        "file = '/content/archive (12).zip'\n",
        "\n",
        "ref = zipfile.ZipFile(file)\n",
        "ref.extractall()\n",
        "ref.close()\n",
        "\n",
        "for file in os.listdir(home_dir):\n",
        "  print(file)"
      ],
      "metadata": {
        "colab": {
          "base_uri": "https://localhost:8080/"
        },
        "id": "2aDAGmCL7N0a",
        "outputId": "5632b352-0ca3-4779-ab36-360fc4a28898"
      },
      "execution_count": null,
      "outputs": [
        {
          "output_type": "stream",
          "name": "stdout",
          "text": [
            ".config\n",
            "PFE_2006-01-01_to_2018-01-01.csv\n",
            "PG_2006-01-01_to_2018-01-01.csv\n",
            "CSCO_2006-01-01_to_2018-01-01.csv\n",
            "all_stocks_2017-01-01_to_2018-01-01.csv\n",
            "all_stocks_2006-01-01_to_2018-01-01.csv\n",
            "AXP_2006-01-01_to_2018-01-01.csv\n",
            "JNJ_2006-01-01_to_2018-01-01.csv\n",
            "UNH_2006-01-01_to_2018-01-01.csv\n",
            "GS_2006-01-01_to_2018-01-01.csv\n",
            "GE_2006-01-01_to_2018-01-01.csv\n",
            "IBM_2006-01-01_to_2018-01-01.csv\n",
            "INTC_2006-01-01_to_2018-01-01.csv\n",
            "UTX_2006-01-01_to_2018-01-01.csv\n",
            "GOOGL_2006-01-01_to_2018-01-01.csv\n",
            "MRK_2006-01-01_to_2018-01-01.csv\n",
            "CVX_2006-01-01_to_2018-01-01.csv\n",
            "AAPL_2006-01-01_to_2018-01-01.csv\n",
            "VZ_2006-01-01_to_2018-01-01.csv\n",
            "JPM_2006-01-01_to_2018-01-01.csv\n",
            "DIS_2006-01-01_to_2018-01-01.csv\n",
            "WMT_2006-01-01_to_2018-01-01.csv\n",
            "AABA_2006-01-01_to_2018-01-01.csv\n",
            "AMZN_2006-01-01_to_2018-01-01.csv\n",
            "MMM_2006-01-01_to_2018-01-01.csv\n",
            "BA_2006-01-01_to_2018-01-01.csv\n",
            "NKE_2006-01-01_to_2018-01-01.csv\n",
            "MSFT_2006-01-01_to_2018-01-01.csv\n",
            "archive (12).zip\n",
            "XOM_2006-01-01_to_2018-01-01.csv\n",
            "CAT_2006-01-01_to_2018-01-01.csv\n",
            "MCD_2006-01-01_to_2018-01-01.csv\n",
            "KO_2006-01-01_to_2018-01-01.csv\n",
            "HD_2006-01-01_to_2018-01-01.csv\n",
            "TRV_2006-01-01_to_2018-01-01.csv\n",
            "sample_data\n"
          ]
        }
      ]
    },
    {
      "cell_type": "markdown",
      "source": [
        "Let's choose the google stock prices csv for this one."
      ],
      "metadata": {
        "id": "_qxrZJ9p7d8c"
      }
    },
    {
      "cell_type": "code",
      "source": [
        "df = pd.read_csv('GOOGL_2006-01-01_to_2018-01-01.csv')\n",
        "df.head()"
      ],
      "metadata": {
        "colab": {
          "base_uri": "https://localhost:8080/",
          "height": 206
        },
        "id": "pGO2qlKF7mQD",
        "outputId": "a6b0470b-c851-4dff-9c7e-9b50ebaadb35"
      },
      "execution_count": null,
      "outputs": [
        {
          "output_type": "execute_result",
          "data": {
            "text/plain": [
              "         Date    Open    High     Low   Close    Volume   Name\n",
              "0  2006-01-03  211.47  218.05  209.32  217.83  13137450  GOOGL\n",
              "1  2006-01-04  222.17  224.70  220.09  222.84  15292353  GOOGL\n",
              "2  2006-01-05  223.22  226.00  220.97  225.85  10815661  GOOGL\n",
              "3  2006-01-06  228.66  235.49  226.85  233.06  17759521  GOOGL\n",
              "4  2006-01-09  233.44  236.94  230.70  233.68  12795837  GOOGL"
            ],
            "text/html": [
              "\n",
              "  <div id=\"df-a2439279-b84f-4fa8-b923-bd63ec880699\">\n",
              "    <div class=\"colab-df-container\">\n",
              "      <div>\n",
              "<style scoped>\n",
              "    .dataframe tbody tr th:only-of-type {\n",
              "        vertical-align: middle;\n",
              "    }\n",
              "\n",
              "    .dataframe tbody tr th {\n",
              "        vertical-align: top;\n",
              "    }\n",
              "\n",
              "    .dataframe thead th {\n",
              "        text-align: right;\n",
              "    }\n",
              "</style>\n",
              "<table border=\"1\" class=\"dataframe\">\n",
              "  <thead>\n",
              "    <tr style=\"text-align: right;\">\n",
              "      <th></th>\n",
              "      <th>Date</th>\n",
              "      <th>Open</th>\n",
              "      <th>High</th>\n",
              "      <th>Low</th>\n",
              "      <th>Close</th>\n",
              "      <th>Volume</th>\n",
              "      <th>Name</th>\n",
              "    </tr>\n",
              "  </thead>\n",
              "  <tbody>\n",
              "    <tr>\n",
              "      <th>0</th>\n",
              "      <td>2006-01-03</td>\n",
              "      <td>211.47</td>\n",
              "      <td>218.05</td>\n",
              "      <td>209.32</td>\n",
              "      <td>217.83</td>\n",
              "      <td>13137450</td>\n",
              "      <td>GOOGL</td>\n",
              "    </tr>\n",
              "    <tr>\n",
              "      <th>1</th>\n",
              "      <td>2006-01-04</td>\n",
              "      <td>222.17</td>\n",
              "      <td>224.70</td>\n",
              "      <td>220.09</td>\n",
              "      <td>222.84</td>\n",
              "      <td>15292353</td>\n",
              "      <td>GOOGL</td>\n",
              "    </tr>\n",
              "    <tr>\n",
              "      <th>2</th>\n",
              "      <td>2006-01-05</td>\n",
              "      <td>223.22</td>\n",
              "      <td>226.00</td>\n",
              "      <td>220.97</td>\n",
              "      <td>225.85</td>\n",
              "      <td>10815661</td>\n",
              "      <td>GOOGL</td>\n",
              "    </tr>\n",
              "    <tr>\n",
              "      <th>3</th>\n",
              "      <td>2006-01-06</td>\n",
              "      <td>228.66</td>\n",
              "      <td>235.49</td>\n",
              "      <td>226.85</td>\n",
              "      <td>233.06</td>\n",
              "      <td>17759521</td>\n",
              "      <td>GOOGL</td>\n",
              "    </tr>\n",
              "    <tr>\n",
              "      <th>4</th>\n",
              "      <td>2006-01-09</td>\n",
              "      <td>233.44</td>\n",
              "      <td>236.94</td>\n",
              "      <td>230.70</td>\n",
              "      <td>233.68</td>\n",
              "      <td>12795837</td>\n",
              "      <td>GOOGL</td>\n",
              "    </tr>\n",
              "  </tbody>\n",
              "</table>\n",
              "</div>\n",
              "      <button class=\"colab-df-convert\" onclick=\"convertToInteractive('df-a2439279-b84f-4fa8-b923-bd63ec880699')\"\n",
              "              title=\"Convert this dataframe to an interactive table.\"\n",
              "              style=\"display:none;\">\n",
              "        \n",
              "  <svg xmlns=\"http://www.w3.org/2000/svg\" height=\"24px\"viewBox=\"0 0 24 24\"\n",
              "       width=\"24px\">\n",
              "    <path d=\"M0 0h24v24H0V0z\" fill=\"none\"/>\n",
              "    <path d=\"M18.56 5.44l.94 2.06.94-2.06 2.06-.94-2.06-.94-.94-2.06-.94 2.06-2.06.94zm-11 1L8.5 8.5l.94-2.06 2.06-.94-2.06-.94L8.5 2.5l-.94 2.06-2.06.94zm10 10l.94 2.06.94-2.06 2.06-.94-2.06-.94-.94-2.06-.94 2.06-2.06.94z\"/><path d=\"M17.41 7.96l-1.37-1.37c-.4-.4-.92-.59-1.43-.59-.52 0-1.04.2-1.43.59L10.3 9.45l-7.72 7.72c-.78.78-.78 2.05 0 2.83L4 21.41c.39.39.9.59 1.41.59.51 0 1.02-.2 1.41-.59l7.78-7.78 2.81-2.81c.8-.78.8-2.07 0-2.86zM5.41 20L4 18.59l7.72-7.72 1.47 1.35L5.41 20z\"/>\n",
              "  </svg>\n",
              "      </button>\n",
              "      \n",
              "  <style>\n",
              "    .colab-df-container {\n",
              "      display:flex;\n",
              "      flex-wrap:wrap;\n",
              "      gap: 12px;\n",
              "    }\n",
              "\n",
              "    .colab-df-convert {\n",
              "      background-color: #E8F0FE;\n",
              "      border: none;\n",
              "      border-radius: 50%;\n",
              "      cursor: pointer;\n",
              "      display: none;\n",
              "      fill: #1967D2;\n",
              "      height: 32px;\n",
              "      padding: 0 0 0 0;\n",
              "      width: 32px;\n",
              "    }\n",
              "\n",
              "    .colab-df-convert:hover {\n",
              "      background-color: #E2EBFA;\n",
              "      box-shadow: 0px 1px 2px rgba(60, 64, 67, 0.3), 0px 1px 3px 1px rgba(60, 64, 67, 0.15);\n",
              "      fill: #174EA6;\n",
              "    }\n",
              "\n",
              "    [theme=dark] .colab-df-convert {\n",
              "      background-color: #3B4455;\n",
              "      fill: #D2E3FC;\n",
              "    }\n",
              "\n",
              "    [theme=dark] .colab-df-convert:hover {\n",
              "      background-color: #434B5C;\n",
              "      box-shadow: 0px 1px 3px 1px rgba(0, 0, 0, 0.15);\n",
              "      filter: drop-shadow(0px 1px 2px rgba(0, 0, 0, 0.3));\n",
              "      fill: #FFFFFF;\n",
              "    }\n",
              "  </style>\n",
              "\n",
              "      <script>\n",
              "        const buttonEl =\n",
              "          document.querySelector('#df-a2439279-b84f-4fa8-b923-bd63ec880699 button.colab-df-convert');\n",
              "        buttonEl.style.display =\n",
              "          google.colab.kernel.accessAllowed ? 'block' : 'none';\n",
              "\n",
              "        async function convertToInteractive(key) {\n",
              "          const element = document.querySelector('#df-a2439279-b84f-4fa8-b923-bd63ec880699');\n",
              "          const dataTable =\n",
              "            await google.colab.kernel.invokeFunction('convertToInteractive',\n",
              "                                                     [key], {});\n",
              "          if (!dataTable) return;\n",
              "\n",
              "          const docLinkHtml = 'Like what you see? Visit the ' +\n",
              "            '<a target=\"_blank\" href=https://colab.research.google.com/notebooks/data_table.ipynb>data table notebook</a>'\n",
              "            + ' to learn more about interactive tables.';\n",
              "          element.innerHTML = '';\n",
              "          dataTable['output_type'] = 'display_data';\n",
              "          await google.colab.output.renderOutput(dataTable, element);\n",
              "          const docLink = document.createElement('div');\n",
              "          docLink.innerHTML = docLinkHtml;\n",
              "          element.appendChild(docLink);\n",
              "        }\n",
              "      </script>\n",
              "    </div>\n",
              "  </div>\n",
              "  "
            ]
          },
          "metadata": {},
          "execution_count": 291
        }
      ]
    },
    {
      "cell_type": "markdown",
      "source": [
        "We are going to start off by only predicting the *closing price* before making things slightly more complicated."
      ],
      "metadata": {
        "id": "rbgiluae7pof"
      }
    },
    {
      "cell_type": "code",
      "source": [
        "# Drop name column\n",
        "df = df.drop('Name', axis=1)"
      ],
      "metadata": {
        "id": "_Ba8TvFi8MVw"
      },
      "execution_count": null,
      "outputs": []
    },
    {
      "cell_type": "code",
      "source": [
        "# Make date column the index and drop date\n",
        "df.index = pd.to_datetime(df['Date'])"
      ],
      "metadata": {
        "id": "1JHOMefp8Qqz"
      },
      "execution_count": null,
      "outputs": []
    },
    {
      "cell_type": "code",
      "source": [
        "df = df.drop('Date', axis=1)\n",
        "df.head()"
      ],
      "metadata": {
        "colab": {
          "base_uri": "https://localhost:8080/",
          "height": 237
        },
        "id": "1lw8BTlS8eX2",
        "outputId": "bd843beb-1ec5-4790-8135-39257a38115a"
      },
      "execution_count": null,
      "outputs": [
        {
          "output_type": "execute_result",
          "data": {
            "text/plain": [
              "              Open    High     Low   Close    Volume\n",
              "Date                                                \n",
              "2006-01-03  211.47  218.05  209.32  217.83  13137450\n",
              "2006-01-04  222.17  224.70  220.09  222.84  15292353\n",
              "2006-01-05  223.22  226.00  220.97  225.85  10815661\n",
              "2006-01-06  228.66  235.49  226.85  233.06  17759521\n",
              "2006-01-09  233.44  236.94  230.70  233.68  12795837"
            ],
            "text/html": [
              "\n",
              "  <div id=\"df-656886c4-6640-4eeb-b769-9afaa7618a01\">\n",
              "    <div class=\"colab-df-container\">\n",
              "      <div>\n",
              "<style scoped>\n",
              "    .dataframe tbody tr th:only-of-type {\n",
              "        vertical-align: middle;\n",
              "    }\n",
              "\n",
              "    .dataframe tbody tr th {\n",
              "        vertical-align: top;\n",
              "    }\n",
              "\n",
              "    .dataframe thead th {\n",
              "        text-align: right;\n",
              "    }\n",
              "</style>\n",
              "<table border=\"1\" class=\"dataframe\">\n",
              "  <thead>\n",
              "    <tr style=\"text-align: right;\">\n",
              "      <th></th>\n",
              "      <th>Open</th>\n",
              "      <th>High</th>\n",
              "      <th>Low</th>\n",
              "      <th>Close</th>\n",
              "      <th>Volume</th>\n",
              "    </tr>\n",
              "    <tr>\n",
              "      <th>Date</th>\n",
              "      <th></th>\n",
              "      <th></th>\n",
              "      <th></th>\n",
              "      <th></th>\n",
              "      <th></th>\n",
              "    </tr>\n",
              "  </thead>\n",
              "  <tbody>\n",
              "    <tr>\n",
              "      <th>2006-01-03</th>\n",
              "      <td>211.47</td>\n",
              "      <td>218.05</td>\n",
              "      <td>209.32</td>\n",
              "      <td>217.83</td>\n",
              "      <td>13137450</td>\n",
              "    </tr>\n",
              "    <tr>\n",
              "      <th>2006-01-04</th>\n",
              "      <td>222.17</td>\n",
              "      <td>224.70</td>\n",
              "      <td>220.09</td>\n",
              "      <td>222.84</td>\n",
              "      <td>15292353</td>\n",
              "    </tr>\n",
              "    <tr>\n",
              "      <th>2006-01-05</th>\n",
              "      <td>223.22</td>\n",
              "      <td>226.00</td>\n",
              "      <td>220.97</td>\n",
              "      <td>225.85</td>\n",
              "      <td>10815661</td>\n",
              "    </tr>\n",
              "    <tr>\n",
              "      <th>2006-01-06</th>\n",
              "      <td>228.66</td>\n",
              "      <td>235.49</td>\n",
              "      <td>226.85</td>\n",
              "      <td>233.06</td>\n",
              "      <td>17759521</td>\n",
              "    </tr>\n",
              "    <tr>\n",
              "      <th>2006-01-09</th>\n",
              "      <td>233.44</td>\n",
              "      <td>236.94</td>\n",
              "      <td>230.70</td>\n",
              "      <td>233.68</td>\n",
              "      <td>12795837</td>\n",
              "    </tr>\n",
              "  </tbody>\n",
              "</table>\n",
              "</div>\n",
              "      <button class=\"colab-df-convert\" onclick=\"convertToInteractive('df-656886c4-6640-4eeb-b769-9afaa7618a01')\"\n",
              "              title=\"Convert this dataframe to an interactive table.\"\n",
              "              style=\"display:none;\">\n",
              "        \n",
              "  <svg xmlns=\"http://www.w3.org/2000/svg\" height=\"24px\"viewBox=\"0 0 24 24\"\n",
              "       width=\"24px\">\n",
              "    <path d=\"M0 0h24v24H0V0z\" fill=\"none\"/>\n",
              "    <path d=\"M18.56 5.44l.94 2.06.94-2.06 2.06-.94-2.06-.94-.94-2.06-.94 2.06-2.06.94zm-11 1L8.5 8.5l.94-2.06 2.06-.94-2.06-.94L8.5 2.5l-.94 2.06-2.06.94zm10 10l.94 2.06.94-2.06 2.06-.94-2.06-.94-.94-2.06-.94 2.06-2.06.94z\"/><path d=\"M17.41 7.96l-1.37-1.37c-.4-.4-.92-.59-1.43-.59-.52 0-1.04.2-1.43.59L10.3 9.45l-7.72 7.72c-.78.78-.78 2.05 0 2.83L4 21.41c.39.39.9.59 1.41.59.51 0 1.02-.2 1.41-.59l7.78-7.78 2.81-2.81c.8-.78.8-2.07 0-2.86zM5.41 20L4 18.59l7.72-7.72 1.47 1.35L5.41 20z\"/>\n",
              "  </svg>\n",
              "      </button>\n",
              "      \n",
              "  <style>\n",
              "    .colab-df-container {\n",
              "      display:flex;\n",
              "      flex-wrap:wrap;\n",
              "      gap: 12px;\n",
              "    }\n",
              "\n",
              "    .colab-df-convert {\n",
              "      background-color: #E8F0FE;\n",
              "      border: none;\n",
              "      border-radius: 50%;\n",
              "      cursor: pointer;\n",
              "      display: none;\n",
              "      fill: #1967D2;\n",
              "      height: 32px;\n",
              "      padding: 0 0 0 0;\n",
              "      width: 32px;\n",
              "    }\n",
              "\n",
              "    .colab-df-convert:hover {\n",
              "      background-color: #E2EBFA;\n",
              "      box-shadow: 0px 1px 2px rgba(60, 64, 67, 0.3), 0px 1px 3px 1px rgba(60, 64, 67, 0.15);\n",
              "      fill: #174EA6;\n",
              "    }\n",
              "\n",
              "    [theme=dark] .colab-df-convert {\n",
              "      background-color: #3B4455;\n",
              "      fill: #D2E3FC;\n",
              "    }\n",
              "\n",
              "    [theme=dark] .colab-df-convert:hover {\n",
              "      background-color: #434B5C;\n",
              "      box-shadow: 0px 1px 3px 1px rgba(0, 0, 0, 0.15);\n",
              "      filter: drop-shadow(0px 1px 2px rgba(0, 0, 0, 0.3));\n",
              "      fill: #FFFFFF;\n",
              "    }\n",
              "  </style>\n",
              "\n",
              "      <script>\n",
              "        const buttonEl =\n",
              "          document.querySelector('#df-656886c4-6640-4eeb-b769-9afaa7618a01 button.colab-df-convert');\n",
              "        buttonEl.style.display =\n",
              "          google.colab.kernel.accessAllowed ? 'block' : 'none';\n",
              "\n",
              "        async function convertToInteractive(key) {\n",
              "          const element = document.querySelector('#df-656886c4-6640-4eeb-b769-9afaa7618a01');\n",
              "          const dataTable =\n",
              "            await google.colab.kernel.invokeFunction('convertToInteractive',\n",
              "                                                     [key], {});\n",
              "          if (!dataTable) return;\n",
              "\n",
              "          const docLinkHtml = 'Like what you see? Visit the ' +\n",
              "            '<a target=\"_blank\" href=https://colab.research.google.com/notebooks/data_table.ipynb>data table notebook</a>'\n",
              "            + ' to learn more about interactive tables.';\n",
              "          element.innerHTML = '';\n",
              "          dataTable['output_type'] = 'display_data';\n",
              "          await google.colab.output.renderOutput(dataTable, element);\n",
              "          const docLink = document.createElement('div');\n",
              "          docLink.innerHTML = docLinkHtml;\n",
              "          element.appendChild(docLink);\n",
              "        }\n",
              "      </script>\n",
              "    </div>\n",
              "  </div>\n",
              "  "
            ]
          },
          "metadata": {},
          "execution_count": 294
        }
      ]
    },
    {
      "cell_type": "code",
      "source": [
        "df['Close'].plot();"
      ],
      "metadata": {
        "colab": {
          "base_uri": "https://localhost:8080/",
          "height": 422
        },
        "id": "PZU8Sx-T8gBm",
        "outputId": "513c991f-db1f-4952-d3c6-65616dc80b9f"
      },
      "execution_count": null,
      "outputs": [
        {
          "output_type": "display_data",
          "data": {
            "text/plain": [
              "<Figure size 640x480 with 1 Axes>"
            ],
            "image/png": "[encoded data removed]"
          },
          "metadata": {}
        }
      ]
    },
    {
      "cell_type": "code",
      "source": [
        "df.Close.isna().value_counts()"
      ],
      "metadata": {
        "colab": {
          "base_uri": "https://localhost:8080/"
        },
        "id": "qnItuhX-9Yqs",
        "outputId": "6a91da4e-c34f-4188-c781-89c1bba4bf59"
      },
      "execution_count": null,
      "outputs": [
        {
          "output_type": "execute_result",
          "data": {
            "text/plain": [
              "False    3019\n",
              "Name: Close, dtype: int64"
            ]
          },
          "metadata": {},
          "execution_count": 72
        }
      ]
    },
    {
      "cell_type": "code",
      "source": [
        "len(df)"
      ],
      "metadata": {
        "colab": {
          "base_uri": "https://localhost:8080/"
        },
        "id": "wNpRu8sn-fXf",
        "outputId": "0af70256-9a46-4824-ad47-8c4d3d34676d"
      },
      "execution_count": null,
      "outputs": [
        {
          "output_type": "execute_result",
          "data": {
            "text/plain": [
              "3019"
            ]
          },
          "metadata": {},
          "execution_count": 73
        }
      ]
    },
    {
      "cell_type": "code",
      "source": [
        "df.Close.plot.box();"
      ],
      "metadata": {
        "colab": {
          "base_uri": "https://localhost:8080/",
          "height": 430
        },
        "id": "oAZZd4DxF6Wu",
        "outputId": "02444fd0-16ef-4a79-8731-cd6112d15f47"
      },
      "execution_count": null,
      "outputs": [
        {
          "output_type": "display_data",
          "data": {
            "text/plain": [
              "<Figure size 640x480 with 1 Axes>"
            ],
            "image/png": "[encoded data removed]"
          },
          "metadata": {}
        }
      ]
    },
    {
      "cell_type": "markdown",
      "source": [
        "No missing values. We can go ahead and start splitting our data and then move on to windowing and labelling it."
      ],
      "metadata": {
        "id": "XpkKKt0Z99M3"
      }
    },
    {
      "cell_type": "code",
      "source": [
        "split = int(0.8 * len(df))"
      ],
      "metadata": {
        "id": "5egMVCXN-S8U"
      },
      "execution_count": null,
      "outputs": []
    },
    {
      "cell_type": "code",
      "source": [
        "# Derive mean and standard deviation for dataset\n",
        "close_mean = np.mean(df.Close)\n",
        "close_std = np.std(df.Close)\n",
        "\n",
        "close_mean, close_std"
      ],
      "metadata": {
        "colab": {
          "base_uri": "https://localhost:8080/"
        },
        "id": "Bbk23jbXHLoZ",
        "outputId": "95d653c4-748f-4820-ff8a-368706f0170b"
      },
      "execution_count": null,
      "outputs": [
        {
          "output_type": "execute_result",
          "data": {
            "text/plain": [
              "(428.044001324942, 236.30409250883486)"
            ]
          },
          "metadata": {},
          "execution_count": 76
        }
      ]
    },
    {
      "cell_type": "code",
      "source": [
        "def preprocess(data):\n",
        "  preprocessed_values = []\n",
        "  mean = np.mean(data)\n",
        "  std = np.std(data)\n",
        "\n",
        "  for value in data:\n",
        "    value = (value - mean) / std\n",
        "    preprocessed_values.append(value)\n",
        "  \n",
        "  preprocessed_values = np.array(preprocessed_values)\n",
        "  cache = {'preprocessed_values': preprocessed_values,\n",
        "           'mean': mean,\n",
        "           'std': std}\n",
        "  \n",
        "  return cache\n",
        "\n",
        "def post_process(cache):\n",
        "  return (cache['preprocessed_values'] * cache['std']) + cache['mean']"
      ],
      "metadata": {
        "id": "_q_WNVIVHYqb"
      },
      "execution_count": null,
      "outputs": []
    },
    {
      "cell_type": "code",
      "source": [
        "# Test functions\n",
        "data = [1, 2, 3, 4, 5, 6, 7]\n",
        "\n",
        "test_cache = preprocess(data)\n",
        "\n",
        "returned_data = post_process(test_cache)\n",
        "returned_data"
      ],
      "metadata": {
        "colab": {
          "base_uri": "https://localhost:8080/"
        },
        "id": "Hc3B2iKJKFmd",
        "outputId": "a223f98a-f682-47c3-f3a3-dcd1d6edf522"
      },
      "execution_count": null,
      "outputs": [
        {
          "output_type": "execute_result",
          "data": {
            "text/plain": [
              "array([1., 2., 3., 4., 5., 6., 7.])"
            ]
          },
          "metadata": {},
          "execution_count": 78
        }
      ]
    },
    {
      "cell_type": "markdown",
      "source": [
        "Now let's make a function for turning the data into windows and labels. We'll train with a few different window sizes to see how the model performs."
      ],
      "metadata": {
        "id": "ktaKV4fl-xQt"
      }
    },
    {
      "cell_type": "code",
      "source": [
        "WINDOW = 7\n",
        "\n",
        "def make_windows(data, window=WINDOW):\n",
        "  \n",
        "  sequences = []\n",
        "  labels = []\n",
        "\n",
        "  for i in range(len(data) - window):\n",
        "    row = [price for price in data[i: i + window]]\n",
        "    sequences.append(row)\n",
        "    label = data[i + window]\n",
        "    labels.append(label)\n",
        "\n",
        "  return np.array(sequences), np.array(labels)"
      ],
      "metadata": {
        "id": "E3hn48VP_Lwa"
      },
      "execution_count": null,
      "outputs": []
    },
    {
      "cell_type": "code",
      "source": [
        "# Split data\n",
        "train_data = df.Close[:split]\n",
        "val_data = df.Close[split:]"
      ],
      "metadata": {
        "id": "R6WSzivdLdeC"
      },
      "execution_count": null,
      "outputs": []
    },
    {
      "cell_type": "code",
      "source": [
        "# Preprocess input data\n",
        "train_cache = preprocess(train_data)\n",
        "val_cache = preprocess(val_data)"
      ],
      "metadata": {
        "id": "-r1C7w7rK6qP"
      },
      "execution_count": null,
      "outputs": []
    },
    {
      "cell_type": "code",
      "source": [
        "X_train, y_train = make_windows(train_cache['preprocessed_values'])\n",
        "X_val, y_val = make_windows(val_cache['preprocessed_values'])"
      ],
      "metadata": {
        "id": "OGldrbxaALNR"
      },
      "execution_count": null,
      "outputs": []
    },
    {
      "cell_type": "code",
      "source": [
        "print(X_train[:6], y_train[:6])"
      ],
      "metadata": {
        "colab": {
          "base_uri": "https://localhost:8080/"
        },
        "id": "M2wSOBrHAYl9",
        "outputId": "fb85d2d8-9f6e-40ed-d3f6-0d9716b7a360"
      },
      "execution_count": null,
      "outputs": [
        {
          "output_type": "stream",
          "name": "stdout",
          "text": [
            "[[-0.85300924 -0.81425802 -0.79097634 -0.73520861 -0.73041305 -0.71935232\n",
            "  -0.71208163]\n",
            " [-0.81425802 -0.79097634 -0.73520861 -0.73041305 -0.71935232 -0.71208163\n",
            "  -0.74302074]\n",
            " [-0.79097634 -0.73520861 -0.73041305 -0.71935232 -0.71208163 -0.74302074\n",
            "  -0.73288818]\n",
            " [-0.73520861 -0.73041305 -0.71935232 -0.71208163 -0.74302074 -0.73288818\n",
            "  -0.72956223]\n",
            " [-0.73041305 -0.71935232 -0.71208163 -0.74302074 -0.73288818 -0.72956223\n",
            "  -0.81549558]\n",
            " [-0.71935232 -0.71208163 -0.74302074 -0.73288818 -0.72956223 -0.81549558\n",
            "  -0.84829103]] [-0.74302074 -0.73288818 -0.72956223 -0.81549558 -0.84829103 -0.99146173]\n"
          ]
        }
      ]
    },
    {
      "cell_type": "code",
      "source": [
        "print(X_val[:6], y_val[:6])"
      ],
      "metadata": {
        "colab": {
          "base_uri": "https://localhost:8080/"
        },
        "id": "bVvgvm_sAhuW",
        "outputId": "dd7247f2-eaf4-41df-ad9b-b46cef9e57da"
      },
      "execution_count": null,
      "outputs": [
        {
          "output_type": "stream",
          "name": "stdout",
          "text": [
            "[[-1.4596388  -1.21859205 -1.20820823 -1.25222855 -1.22684586 -1.18477806\n",
            "  -1.2325259 ]\n",
            " [-1.21859205 -1.20820823 -1.25222855 -1.22684586 -1.18477806 -1.2325259\n",
            "  -1.18539931]\n",
            " [-1.20820823 -1.25222855 -1.22684586 -1.18477806 -1.2325259  -1.18539931\n",
            "  -1.31462025]\n",
            " [-1.25222855 -1.22684586 -1.18477806 -1.2325259  -1.18539931 -1.31462025\n",
            "  -1.62924129]\n",
            " [-1.22684586 -1.18477806 -1.2325259  -1.18539931 -1.31462025 -1.62924129\n",
            "  -1.85928296]\n",
            " [-1.18477806 -1.2325259  -1.18539931 -1.31462025 -1.62924129 -1.85928296\n",
            "  -1.90933832]] [-1.18539931 -1.31462025 -1.62924129 -1.85928296 -1.90933832 -1.48981402]\n"
          ]
        }
      ]
    },
    {
      "cell_type": "code",
      "source": [
        "X_train.shape"
      ],
      "metadata": {
        "colab": {
          "base_uri": "https://localhost:8080/"
        },
        "id": "5NXaFFUqA-rO",
        "outputId": "34f2b491-c916-4f27-b3e0-4eb25bb33f6e"
      },
      "execution_count": null,
      "outputs": [
        {
          "output_type": "execute_result",
          "data": {
            "text/plain": [
              "(2408, 7)"
            ]
          },
          "metadata": {},
          "execution_count": 88
        }
      ]
    },
    {
      "cell_type": "code",
      "source": [
        "# Build model\n",
        "model1 = Sequential([\n",
        "    layers.Input(shape=(7, 1)),\n",
        "    layers.Bidirectional(layers.LSTM(32, return_sequences=True)),\n",
        "    layers.LSTM(32, recurrent_dropout=0.2),\n",
        "    layers.Dense(16, 'relu'),\n",
        "    layers.Dropout(0.2),\n",
        "    layers.Dense(1, 'linear')\n",
        "], name='lstm')\n",
        "\n",
        "model1.compile(loss=losses.Huber(),\n",
        "               optimizer='adam',\n",
        "               metrics=['mae', 'mse'])\n",
        "\n",
        "model1.summary()"
      ],
      "metadata": {
        "colab": {
          "base_uri": "https://localhost:8080/"
        },
        "id": "WmK3X50qA3Se",
        "outputId": "b2bacd7b-74d8-41b8-bc5d-c0aee946dc17"
      },
      "execution_count": null,
      "outputs": [
        {
          "output_type": "stream",
          "name": "stdout",
          "text": [
            "Model: \"lstm\"\n",
            "_________________________________________________________________\n",
            " Layer (type)                Output Shape              Param #   \n",
            "=================================================================\n",
            " bidirectional_2 (Bidirectio  (None, 7, 64)            8704      \n",
            " nal)                                                            \n",
            "                                                                 \n",
            " lstm_8 (LSTM)               (None, 32)                12416     \n",
            "                                                                 \n",
            " dense_10 (Dense)            (None, 16)                528       \n",
            "                                                                 \n",
            " dropout_5 (Dropout)         (None, 16)                0         \n",
            "                                                                 \n",
            " dense_11 (Dense)            (None, 1)                 17        \n",
            "                                                                 \n",
            "=================================================================\n",
            "Total params: 21,665\n",
            "Trainable params: 21,665\n",
            "Non-trainable params: 0\n",
            "_________________________________________________________________\n"
          ]
        }
      ]
    },
    {
      "cell_type": "code",
      "source": [
        "model1.fit(X_train, y_train, epochs=100,\n",
        "           validation_data=(X_val, y_val))"
      ],
      "metadata": {
        "colab": {
          "base_uri": "https://localhost:8080/"
        },
        "id": "o6tyS2UrB4bR",
        "outputId": "07c79d88-f9db-4edd-b83b-9fd5eff990dc"
      },
      "execution_count": null,
      "outputs": [
        {
          "output_type": "stream",
          "name": "stdout",
          "text": [
            "Epoch 1/100\n",
            "76/76 [==============================] - 6s 20ms/step - loss: 0.1192 - mae: 0.3329 - mse: 0.2569 - val_loss: 0.0182 - val_mae: 0.1456 - val_mse: 0.0364\n",
            "Epoch 2/100\n",
            "76/76 [==============================] - 1s 13ms/step - loss: 0.0287 - mae: 0.1643 - mse: 0.0575 - val_loss: 0.0113 - val_mae: 0.1145 - val_mse: 0.0226\n",
            "Epoch 3/100\n",
            "76/76 [==============================] - 1s 18ms/step - loss: 0.0242 - mae: 0.1445 - mse: 0.0491 - val_loss: 0.0110 - val_mae: 0.1149 - val_mse: 0.0221\n",
            "Epoch 4/100\n",
            "76/76 [==============================] - 1s 11ms/step - loss: 0.0260 - mae: 0.1493 - mse: 0.0537 - val_loss: 0.0110 - val_mae: 0.1124 - val_mse: 0.0221\n",
            "Epoch 5/100\n",
            "76/76 [==============================] - 1s 10ms/step - loss: 0.0242 - mae: 0.1471 - mse: 0.0487 - val_loss: 0.0101 - val_mae: 0.1065 - val_mse: 0.0202\n",
            "Epoch 6/100\n",
            "76/76 [==============================] - 1s 9ms/step - loss: 0.0211 - mae: 0.1402 - mse: 0.0423 - val_loss: 0.0109 - val_mae: 0.1149 - val_mse: 0.0219\n",
            "Epoch 7/100\n",
            "76/76 [==============================] - 1s 10ms/step - loss: 0.0218 - mae: 0.1405 - mse: 0.0438 - val_loss: 0.0114 - val_mae: 0.1141 - val_mse: 0.0227\n",
            "Epoch 8/100\n",
            "76/76 [==============================] - 1s 10ms/step - loss: 0.0217 - mae: 0.1361 - mse: 0.0442 - val_loss: 0.0114 - val_mae: 0.1144 - val_mse: 0.0228\n",
            "Epoch 9/100\n",
            "76/76 [==============================] - 1s 10ms/step - loss: 0.0209 - mae: 0.1377 - mse: 0.0422 - val_loss: 0.0097 - val_mae: 0.1043 - val_mse: 0.0194\n",
            "Epoch 10/100\n",
            "76/76 [==============================] - 1s 10ms/step - loss: 0.0226 - mae: 0.1383 - mse: 0.0457 - val_loss: 0.0104 - val_mae: 0.1068 - val_mse: 0.0209\n",
            "Epoch 11/100\n",
            "76/76 [==============================] - 1s 10ms/step - loss: 0.0214 - mae: 0.1398 - mse: 0.0430 - val_loss: 0.0086 - val_mae: 0.0996 - val_mse: 0.0173\n",
            "Epoch 12/100\n",
            "76/76 [==============================] - 1s 10ms/step - loss: 0.0208 - mae: 0.1382 - mse: 0.0417 - val_loss: 0.0098 - val_mae: 0.1071 - val_mse: 0.0196\n",
            "Epoch 13/100\n",
            "76/76 [==============================] - 1s 10ms/step - loss: 0.0217 - mae: 0.1362 - mse: 0.0438 - val_loss: 0.0114 - val_mae: 0.1145 - val_mse: 0.0229\n",
            "Epoch 14/100\n",
            "76/76 [==============================] - 1s 10ms/step - loss: 0.0222 - mae: 0.1372 - mse: 0.0450 - val_loss: 0.0089 - val_mae: 0.0991 - val_mse: 0.0179\n",
            "Epoch 15/100\n",
            "76/76 [==============================] - 1s 10ms/step - loss: 0.0203 - mae: 0.1368 - mse: 0.0405 - val_loss: 0.0102 - val_mae: 0.1071 - val_mse: 0.0205\n",
            "Epoch 16/100\n",
            "76/76 [==============================] - 1s 10ms/step - loss: 0.0214 - mae: 0.1389 - mse: 0.0429 - val_loss: 0.0156 - val_mae: 0.1341 - val_mse: 0.0312\n",
            "Epoch 17/100\n",
            "76/76 [==============================] - 1s 15ms/step - loss: 0.0207 - mae: 0.1339 - mse: 0.0417 - val_loss: 0.0120 - val_mae: 0.1181 - val_mse: 0.0241\n",
            "Epoch 18/100\n",
            "76/76 [==============================] - 1s 17ms/step - loss: 0.0187 - mae: 0.1296 - mse: 0.0376 - val_loss: 0.0084 - val_mae: 0.0986 - val_mse: 0.0168\n",
            "Epoch 19/100\n",
            "76/76 [==============================] - 1s 10ms/step - loss: 0.0185 - mae: 0.1311 - mse: 0.0369 - val_loss: 0.0093 - val_mae: 0.1059 - val_mse: 0.0186\n",
            "Epoch 20/100\n",
            "76/76 [==============================] - 1s 10ms/step - loss: 0.0194 - mae: 0.1344 - mse: 0.0389 - val_loss: 0.0115 - val_mae: 0.1153 - val_mse: 0.0230\n",
            "Epoch 21/100\n",
            "76/76 [==============================] - 1s 10ms/step - loss: 0.0192 - mae: 0.1340 - mse: 0.0385 - val_loss: 0.0088 - val_mae: 0.0991 - val_mse: 0.0176\n",
            "Epoch 22/100\n",
            "76/76 [==============================] - 1s 10ms/step - loss: 0.0201 - mae: 0.1377 - mse: 0.0404 - val_loss: 0.0102 - val_mae: 0.1092 - val_mse: 0.0203\n",
            "Epoch 23/100\n",
            "76/76 [==============================] - 1s 10ms/step - loss: 0.0180 - mae: 0.1311 - mse: 0.0361 - val_loss: 0.0076 - val_mae: 0.0927 - val_mse: 0.0152\n",
            "Epoch 24/100\n",
            "76/76 [==============================] - 1s 10ms/step - loss: 0.0191 - mae: 0.1359 - mse: 0.0383 - val_loss: 0.0084 - val_mae: 0.0995 - val_mse: 0.0169\n",
            "Epoch 25/100\n",
            "76/76 [==============================] - 1s 10ms/step - loss: 0.0172 - mae: 0.1275 - mse: 0.0345 - val_loss: 0.0092 - val_mae: 0.1022 - val_mse: 0.0185\n",
            "Epoch 26/100\n",
            "76/76 [==============================] - 1s 10ms/step - loss: 0.0187 - mae: 0.1305 - mse: 0.0378 - val_loss: 0.0079 - val_mae: 0.0949 - val_mse: 0.0158\n",
            "Epoch 27/100\n",
            "76/76 [==============================] - 1s 10ms/step - loss: 0.0176 - mae: 0.1273 - mse: 0.0353 - val_loss: 0.0101 - val_mae: 0.1071 - val_mse: 0.0201\n",
            "Epoch 28/100\n",
            "76/76 [==============================] - 1s 10ms/step - loss: 0.0188 - mae: 0.1302 - mse: 0.0378 - val_loss: 0.0090 - val_mae: 0.1012 - val_mse: 0.0181\n",
            "Epoch 29/100\n",
            "76/76 [==============================] - 1s 10ms/step - loss: 0.0174 - mae: 0.1299 - mse: 0.0348 - val_loss: 0.0084 - val_mae: 0.0992 - val_mse: 0.0169\n",
            "Epoch 30/100\n",
            "76/76 [==============================] - 1s 10ms/step - loss: 0.0175 - mae: 0.1292 - mse: 0.0350 - val_loss: 0.0074 - val_mae: 0.0912 - val_mse: 0.0148\n",
            "Epoch 31/100\n",
            "76/76 [==============================] - 1s 12ms/step - loss: 0.0177 - mae: 0.1264 - mse: 0.0356 - val_loss: 0.0081 - val_mae: 0.0947 - val_mse: 0.0161\n",
            "Epoch 32/100\n",
            "76/76 [==============================] - 1s 16ms/step - loss: 0.0193 - mae: 0.1328 - mse: 0.0388 - val_loss: 0.0125 - val_mae: 0.1203 - val_mse: 0.0250\n",
            "Epoch 33/100\n",
            "76/76 [==============================] - 1s 14ms/step - loss: 0.0189 - mae: 0.1339 - mse: 0.0379 - val_loss: 0.0075 - val_mae: 0.0940 - val_mse: 0.0151\n",
            "Epoch 34/100\n",
            "76/76 [==============================] - 1s 10ms/step - loss: 0.0185 - mae: 0.1318 - mse: 0.0372 - val_loss: 0.0085 - val_mae: 0.0986 - val_mse: 0.0169\n",
            "Epoch 35/100\n",
            "76/76 [==============================] - 1s 10ms/step - loss: 0.0192 - mae: 0.1331 - mse: 0.0384 - val_loss: 0.0087 - val_mae: 0.1006 - val_mse: 0.0175\n",
            "Epoch 36/100\n",
            "76/76 [==============================] - 1s 10ms/step - loss: 0.0203 - mae: 0.1352 - mse: 0.0409 - val_loss: 0.0069 - val_mae: 0.0872 - val_mse: 0.0139\n",
            "Epoch 37/100\n",
            "76/76 [==============================] - 1s 10ms/step - loss: 0.0172 - mae: 0.1259 - mse: 0.0344 - val_loss: 0.0075 - val_mae: 0.0937 - val_mse: 0.0150\n",
            "Epoch 38/100\n",
            "76/76 [==============================] - 1s 10ms/step - loss: 0.0194 - mae: 0.1334 - mse: 0.0389 - val_loss: 0.0066 - val_mae: 0.0857 - val_mse: 0.0132\n",
            "Epoch 39/100\n",
            "76/76 [==============================] - 1s 10ms/step - loss: 0.0183 - mae: 0.1312 - mse: 0.0367 - val_loss: 0.0067 - val_mae: 0.0871 - val_mse: 0.0133\n",
            "Epoch 40/100\n",
            "76/76 [==============================] - 1s 10ms/step - loss: 0.0179 - mae: 0.1288 - mse: 0.0361 - val_loss: 0.0072 - val_mae: 0.0895 - val_mse: 0.0143\n",
            "Epoch 41/100\n",
            "76/76 [==============================] - 1s 10ms/step - loss: 0.0179 - mae: 0.1311 - mse: 0.0358 - val_loss: 0.0104 - val_mae: 0.1089 - val_mse: 0.0208\n",
            "Epoch 42/100\n",
            "76/76 [==============================] - 1s 9ms/step - loss: 0.0171 - mae: 0.1282 - mse: 0.0342 - val_loss: 0.0068 - val_mae: 0.0868 - val_mse: 0.0137\n",
            "Epoch 43/100\n",
            "76/76 [==============================] - 1s 10ms/step - loss: 0.0178 - mae: 0.1304 - mse: 0.0357 - val_loss: 0.0078 - val_mae: 0.0931 - val_mse: 0.0155\n",
            "Epoch 44/100\n",
            "76/76 [==============================] - 1s 10ms/step - loss: 0.0183 - mae: 0.1307 - mse: 0.0368 - val_loss: 0.0067 - val_mae: 0.0879 - val_mse: 0.0134\n",
            "Epoch 45/100\n",
            "76/76 [==============================] - 1s 10ms/step - loss: 0.0185 - mae: 0.1315 - mse: 0.0371 - val_loss: 0.0073 - val_mae: 0.0917 - val_mse: 0.0146\n",
            "Epoch 46/100\n",
            "76/76 [==============================] - 1s 13ms/step - loss: 0.0176 - mae: 0.1297 - mse: 0.0352 - val_loss: 0.0071 - val_mae: 0.0894 - val_mse: 0.0141\n",
            "Epoch 47/100\n",
            "76/76 [==============================] - 1s 15ms/step - loss: 0.0171 - mae: 0.1283 - mse: 0.0342 - val_loss: 0.0063 - val_mae: 0.0830 - val_mse: 0.0126\n",
            "Epoch 48/100\n",
            "76/76 [==============================] - 1s 13ms/step - loss: 0.0171 - mae: 0.1283 - mse: 0.0342 - val_loss: 0.0083 - val_mae: 0.0964 - val_mse: 0.0165\n",
            "Epoch 49/100\n",
            "76/76 [==============================] - 1s 10ms/step - loss: 0.0180 - mae: 0.1281 - mse: 0.0360 - val_loss: 0.0076 - val_mae: 0.0927 - val_mse: 0.0152\n",
            "Epoch 50/100\n",
            "76/76 [==============================] - 1s 10ms/step - loss: 0.0188 - mae: 0.1320 - mse: 0.0378 - val_loss: 0.0073 - val_mae: 0.0921 - val_mse: 0.0146\n",
            "Epoch 51/100\n",
            "76/76 [==============================] - 1s 10ms/step - loss: 0.0182 - mae: 0.1290 - mse: 0.0366 - val_loss: 0.0108 - val_mae: 0.1138 - val_mse: 0.0217\n",
            "Epoch 52/100\n",
            "76/76 [==============================] - 1s 10ms/step - loss: 0.0188 - mae: 0.1316 - mse: 0.0377 - val_loss: 0.0068 - val_mae: 0.0872 - val_mse: 0.0136\n",
            "Epoch 53/100\n",
            "76/76 [==============================] - 1s 10ms/step - loss: 0.0184 - mae: 0.1299 - mse: 0.0368 - val_loss: 0.0062 - val_mae: 0.0817 - val_mse: 0.0123\n",
            "Epoch 54/100\n",
            "76/76 [==============================] - 1s 10ms/step - loss: 0.0174 - mae: 0.1280 - mse: 0.0347 - val_loss: 0.0073 - val_mae: 0.0913 - val_mse: 0.0145\n",
            "Epoch 55/100\n",
            "76/76 [==============================] - 1s 10ms/step - loss: 0.0194 - mae: 0.1329 - mse: 0.0390 - val_loss: 0.0075 - val_mae: 0.0956 - val_mse: 0.0151\n",
            "Epoch 56/100\n",
            "76/76 [==============================] - 1s 10ms/step - loss: 0.0186 - mae: 0.1321 - mse: 0.0372 - val_loss: 0.0086 - val_mae: 0.0996 - val_mse: 0.0173\n",
            "Epoch 57/100\n",
            "76/76 [==============================] - 1s 11ms/step - loss: 0.0187 - mae: 0.1341 - mse: 0.0377 - val_loss: 0.0059 - val_mae: 0.0797 - val_mse: 0.0118\n",
            "Epoch 58/100\n",
            "76/76 [==============================] - 1s 10ms/step - loss: 0.0178 - mae: 0.1283 - mse: 0.0356 - val_loss: 0.0063 - val_mae: 0.0861 - val_mse: 0.0126\n",
            "Epoch 59/100\n",
            "76/76 [==============================] - 1s 10ms/step - loss: 0.0168 - mae: 0.1273 - mse: 0.0335 - val_loss: 0.0065 - val_mae: 0.0840 - val_mse: 0.0130\n",
            "Epoch 60/100\n",
            "76/76 [==============================] - 1s 10ms/step - loss: 0.0175 - mae: 0.1290 - mse: 0.0350 - val_loss: 0.0058 - val_mae: 0.0791 - val_mse: 0.0116\n",
            "Epoch 61/100\n",
            "76/76 [==============================] - 1s 14ms/step - loss: 0.0179 - mae: 0.1298 - mse: 0.0358 - val_loss: 0.0074 - val_mae: 0.0921 - val_mse: 0.0148\n",
            "Epoch 62/100\n",
            "76/76 [==============================] - 1s 17ms/step - loss: 0.0161 - mae: 0.1224 - mse: 0.0322 - val_loss: 0.0059 - val_mae: 0.0793 - val_mse: 0.0117\n",
            "Epoch 63/100\n",
            "76/76 [==============================] - 1s 10ms/step - loss: 0.0173 - mae: 0.1285 - mse: 0.0347 - val_loss: 0.0059 - val_mae: 0.0820 - val_mse: 0.0118\n",
            "Epoch 64/100\n",
            "76/76 [==============================] - 1s 10ms/step - loss: 0.0177 - mae: 0.1288 - mse: 0.0354 - val_loss: 0.0068 - val_mae: 0.0877 - val_mse: 0.0137\n",
            "Epoch 65/100\n",
            "76/76 [==============================] - 1s 10ms/step - loss: 0.0176 - mae: 0.1294 - mse: 0.0352 - val_loss: 0.0058 - val_mae: 0.0785 - val_mse: 0.0116\n",
            "Epoch 66/100\n",
            "76/76 [==============================] - 1s 9ms/step - loss: 0.0175 - mae: 0.1283 - mse: 0.0350 - val_loss: 0.0057 - val_mae: 0.0783 - val_mse: 0.0114\n",
            "Epoch 67/100\n",
            "76/76 [==============================] - 1s 10ms/step - loss: 0.0180 - mae: 0.1302 - mse: 0.0362 - val_loss: 0.0098 - val_mae: 0.1069 - val_mse: 0.0197\n",
            "Epoch 68/100\n",
            "76/76 [==============================] - 1s 10ms/step - loss: 0.0165 - mae: 0.1277 - mse: 0.0330 - val_loss: 0.0070 - val_mae: 0.0856 - val_mse: 0.0140\n",
            "Epoch 69/100\n",
            "76/76 [==============================] - 1s 10ms/step - loss: 0.0164 - mae: 0.1244 - mse: 0.0328 - val_loss: 0.0062 - val_mae: 0.0831 - val_mse: 0.0124\n",
            "Epoch 70/100\n",
            "76/76 [==============================] - 1s 10ms/step - loss: 0.0172 - mae: 0.1270 - mse: 0.0344 - val_loss: 0.0059 - val_mae: 0.0812 - val_mse: 0.0118\n",
            "Epoch 71/100\n",
            "76/76 [==============================] - 1s 10ms/step - loss: 0.0177 - mae: 0.1295 - mse: 0.0354 - val_loss: 0.0059 - val_mae: 0.0810 - val_mse: 0.0119\n",
            "Epoch 72/100\n",
            "76/76 [==============================] - 1s 10ms/step - loss: 0.0182 - mae: 0.1292 - mse: 0.0366 - val_loss: 0.0069 - val_mae: 0.0883 - val_mse: 0.0138\n",
            "Epoch 73/100\n",
            "76/76 [==============================] - 1s 9ms/step - loss: 0.0168 - mae: 0.1256 - mse: 0.0336 - val_loss: 0.0070 - val_mae: 0.0880 - val_mse: 0.0140\n",
            "Epoch 74/100\n",
            "76/76 [==============================] - 1s 10ms/step - loss: 0.0197 - mae: 0.1352 - mse: 0.0397 - val_loss: 0.0061 - val_mae: 0.0818 - val_mse: 0.0121\n",
            "Epoch 75/100\n",
            "76/76 [==============================] - 1s 9ms/step - loss: 0.0176 - mae: 0.1306 - mse: 0.0352 - val_loss: 0.0064 - val_mae: 0.0856 - val_mse: 0.0128\n",
            "Epoch 76/100\n",
            "76/76 [==============================] - 1s 16ms/step - loss: 0.0173 - mae: 0.1271 - mse: 0.0349 - val_loss: 0.0061 - val_mae: 0.0818 - val_mse: 0.0121\n",
            "Epoch 77/100\n",
            "76/76 [==============================] - 1s 16ms/step - loss: 0.0182 - mae: 0.1295 - mse: 0.0365 - val_loss: 0.0053 - val_mae: 0.0762 - val_mse: 0.0106\n",
            "Epoch 78/100\n",
            "76/76 [==============================] - 1s 10ms/step - loss: 0.0177 - mae: 0.1264 - mse: 0.0356 - val_loss: 0.0086 - val_mae: 0.0988 - val_mse: 0.0172\n",
            "Epoch 79/100\n",
            "76/76 [==============================] - 1s 10ms/step - loss: 0.0194 - mae: 0.1313 - mse: 0.0389 - val_loss: 0.0063 - val_mae: 0.0835 - val_mse: 0.0125\n",
            "Epoch 80/100\n",
            "76/76 [==============================] - 1s 10ms/step - loss: 0.0164 - mae: 0.1244 - mse: 0.0329 - val_loss: 0.0071 - val_mae: 0.0909 - val_mse: 0.0142\n",
            "Epoch 81/100\n",
            "76/76 [==============================] - 1s 10ms/step - loss: 0.0174 - mae: 0.1279 - mse: 0.0349 - val_loss: 0.0056 - val_mae: 0.0770 - val_mse: 0.0111\n",
            "Epoch 82/100\n",
            "76/76 [==============================] - 1s 10ms/step - loss: 0.0178 - mae: 0.1297 - mse: 0.0355 - val_loss: 0.0053 - val_mae: 0.0746 - val_mse: 0.0105\n",
            "Epoch 83/100\n",
            "76/76 [==============================] - 1s 10ms/step - loss: 0.0181 - mae: 0.1267 - mse: 0.0363 - val_loss: 0.0052 - val_mae: 0.0746 - val_mse: 0.0104\n",
            "Epoch 84/100\n",
            "76/76 [==============================] - 1s 10ms/step - loss: 0.0177 - mae: 0.1303 - mse: 0.0354 - val_loss: 0.0063 - val_mae: 0.0874 - val_mse: 0.0126\n",
            "Epoch 85/100\n",
            "76/76 [==============================] - 1s 10ms/step - loss: 0.0178 - mae: 0.1284 - mse: 0.0357 - val_loss: 0.0054 - val_mae: 0.0760 - val_mse: 0.0108\n",
            "Epoch 86/100\n",
            "76/76 [==============================] - 1s 10ms/step - loss: 0.0176 - mae: 0.1269 - mse: 0.0352 - val_loss: 0.0055 - val_mae: 0.0767 - val_mse: 0.0110\n",
            "Epoch 87/100\n",
            "76/76 [==============================] - 1s 10ms/step - loss: 0.0178 - mae: 0.1303 - mse: 0.0357 - val_loss: 0.0059 - val_mae: 0.0821 - val_mse: 0.0119\n",
            "Epoch 88/100\n",
            "76/76 [==============================] - 1s 10ms/step - loss: 0.0176 - mae: 0.1278 - mse: 0.0356 - val_loss: 0.0052 - val_mae: 0.0741 - val_mse: 0.0104\n",
            "Epoch 89/100\n",
            "76/76 [==============================] - 1s 10ms/step - loss: 0.0177 - mae: 0.1295 - mse: 0.0354 - val_loss: 0.0059 - val_mae: 0.0798 - val_mse: 0.0117\n",
            "Epoch 90/100\n",
            "76/76 [==============================] - 1s 10ms/step - loss: 0.0181 - mae: 0.1273 - mse: 0.0365 - val_loss: 0.0050 - val_mae: 0.0720 - val_mse: 0.0099\n",
            "Epoch 91/100\n",
            "76/76 [==============================] - 1s 16ms/step - loss: 0.0189 - mae: 0.1313 - mse: 0.0379 - val_loss: 0.0049 - val_mae: 0.0729 - val_mse: 0.0099\n",
            "Epoch 92/100\n",
            "76/76 [==============================] - 1s 15ms/step - loss: 0.0182 - mae: 0.1290 - mse: 0.0365 - val_loss: 0.0066 - val_mae: 0.0886 - val_mse: 0.0132\n",
            "Epoch 93/100\n",
            "76/76 [==============================] - 1s 10ms/step - loss: 0.0186 - mae: 0.1312 - mse: 0.0373 - val_loss: 0.0069 - val_mae: 0.0896 - val_mse: 0.0139\n",
            "Epoch 94/100\n",
            "76/76 [==============================] - 1s 10ms/step - loss: 0.0187 - mae: 0.1320 - mse: 0.0373 - val_loss: 0.0065 - val_mae: 0.0816 - val_mse: 0.0130\n",
            "Epoch 95/100\n",
            "76/76 [==============================] - 1s 10ms/step - loss: 0.0188 - mae: 0.1303 - mse: 0.0376 - val_loss: 0.0062 - val_mae: 0.0802 - val_mse: 0.0124\n",
            "Epoch 96/100\n",
            "76/76 [==============================] - 1s 10ms/step - loss: 0.0179 - mae: 0.1324 - mse: 0.0358 - val_loss: 0.0049 - val_mae: 0.0715 - val_mse: 0.0099\n",
            "Epoch 97/100\n",
            "76/76 [==============================] - 1s 10ms/step - loss: 0.0178 - mae: 0.1255 - mse: 0.0358 - val_loss: 0.0059 - val_mae: 0.0828 - val_mse: 0.0118\n",
            "Epoch 98/100\n",
            "76/76 [==============================] - 1s 10ms/step - loss: 0.0173 - mae: 0.1264 - mse: 0.0348 - val_loss: 0.0089 - val_mae: 0.1019 - val_mse: 0.0178\n",
            "Epoch 99/100\n",
            "76/76 [==============================] - 1s 10ms/step - loss: 0.0169 - mae: 0.1257 - mse: 0.0339 - val_loss: 0.0056 - val_mae: 0.0795 - val_mse: 0.0112\n",
            "Epoch 100/100\n",
            "76/76 [==============================] - 1s 10ms/step - loss: 0.0181 - mae: 0.1283 - mse: 0.0365 - val_loss: 0.0054 - val_mae: 0.0768 - val_mse: 0.0109\n"
          ]
        },
        {
          "output_type": "execute_result",
          "data": {
            "text/plain": [
              "<keras.callbacks.History at 0x7f94468f52d0>"
            ]
          },
          "metadata": {},
          "execution_count": 90
        }
      ]
    },
    {
      "cell_type": "code",
      "source": [
        "preds = model1.predict(X_val)\n",
        "\n",
        "plt.plot(y_val)\n",
        "plt.plot(preds)\n",
        "plt.xlabel(\"Time\")\n",
        "plt.ylabel(\"Close\")\n",
        "plt.show();"
      ],
      "metadata": {
        "colab": {
          "base_uri": "https://localhost:8080/",
          "height": 466
        },
        "id": "2dXtoeTlCELe",
        "outputId": "9346be7b-9db0-4d4c-ef60-39bc73dc41e0"
      },
      "execution_count": null,
      "outputs": [
        {
          "output_type": "stream",
          "name": "stdout",
          "text": [
            "19/19 [==============================] - 1s 3ms/step\n"
          ]
        },
        {
          "output_type": "display_data",
          "data": {
            "text/plain": [
              "<Figure size 640x480 with 1 Axes>"
            ],
            "image/png": "[encoded data removed]"
          },
          "metadata": {}
        }
      ]
    },
    {
      "cell_type": "code",
      "source": [
        "val_post = post_process(val_cache)\n",
        "val_post.shape"
      ],
      "metadata": {
        "colab": {
          "base_uri": "https://localhost:8080/"
        },
        "id": "RxLcK3MIG0F9",
        "outputId": "41152e7a-51d7-4401-d21f-f10055ac06d1"
      },
      "execution_count": null,
      "outputs": [
        {
          "output_type": "execute_result",
          "data": {
            "text/plain": [
              "(604,)"
            ]
          },
          "metadata": {},
          "execution_count": 93
        }
      ]
    },
    {
      "cell_type": "code",
      "source": [
        "val_data.shape"
      ],
      "metadata": {
        "colab": {
          "base_uri": "https://localhost:8080/"
        },
        "id": "xNtt2yhaG602",
        "outputId": "71778551-e281-407a-e699-87a9d96b09bd"
      },
      "execution_count": null,
      "outputs": [
        {
          "output_type": "execute_result",
          "data": {
            "text/plain": [
              "(604,)"
            ]
          },
          "metadata": {},
          "execution_count": 94
        }
      ]
    },
    {
      "cell_type": "code",
      "source": [
        "# Post process preds\n",
        "preds = (preds * val_cache['std']) + val_cache['mean']"
      ],
      "metadata": {
        "id": "_djvripdObhZ"
      },
      "execution_count": null,
      "outputs": []
    },
    {
      "cell_type": "code",
      "source": [
        "plt.plot(val_post)\n",
        "plt.plot(preds)\n",
        "plt.xlabel(\"Time\")\n",
        "plt.ylabel(\"Close\")\n",
        "plt.show();"
      ],
      "metadata": {
        "colab": {
          "base_uri": "https://localhost:8080/",
          "height": 449
        },
        "id": "hMOx7W4FN4_P",
        "outputId": "0c01937f-6fc5-43d4-b938-7b18f258741c"
      },
      "execution_count": null,
      "outputs": [
        {
          "output_type": "display_data",
          "data": {
            "text/plain": [
              "<Figure size 640x480 with 1 Axes>"
            ],
            "image/png": "[encoded data removed]"
          },
          "metadata": {}
        }
      ]
    },
    {
      "cell_type": "markdown",
      "source": [
        "For future reference, let's functionize the post-processing, predicting, and plotting of the data before moving on to some multivariate modeling."
      ],
      "metadata": {
        "id": "7z35CNRYOsRe"
      }
    },
    {
      "cell_type": "code",
      "source": [
        "def make_and_plot_preds(model, data, cache):\n",
        "  preds = model.predict(data)\n",
        "  post_data = post_process(cache)\n",
        "\n",
        "  post_preds = (preds * cache['std']) + cache['mean']\n",
        "  \n",
        "  plt.plot(val_post)\n",
        "  plt.plot(post_preds)\n",
        "  plt.xlabel(\"Time\")\n",
        "  plt.ylabel(data.name)\n",
        "  plt.show();"
      ],
      "metadata": {
        "id": "y02D01upQNs4"
      },
      "execution_count": null,
      "outputs": []
    },
    {
      "cell_type": "markdown",
      "source": [
        "## ***Multivariate Time Series***"
      ],
      "metadata": {
        "id": "1jaAJRx9Ql7f"
      }
    },
    {
      "cell_type": "code",
      "source": [
        "# Remind ourselves of the original df\n",
        "df.head()"
      ],
      "metadata": {
        "colab": {
          "base_uri": "https://localhost:8080/",
          "height": 237
        },
        "id": "2lM2-nXuR-NX",
        "outputId": "f12f35ee-3831-4e70-ebc7-20078031b583"
      },
      "execution_count": null,
      "outputs": [
        {
          "output_type": "execute_result",
          "data": {
            "text/plain": [
              "              Open    High     Low   Close    Volume\n",
              "Date                                                \n",
              "2006-01-03  211.47  218.05  209.32  217.83  13137450\n",
              "2006-01-04  222.17  224.70  220.09  222.84  15292353\n",
              "2006-01-05  223.22  226.00  220.97  225.85  10815661\n",
              "2006-01-06  228.66  235.49  226.85  233.06  17759521\n",
              "2006-01-09  233.44  236.94  230.70  233.68  12795837"
            ],
            "text/html": [
              "\n",
              "  <div id=\"df-be36cb4e-eecb-42e1-bc5e-a63807db6f32\">\n",
              "    <div class=\"colab-df-container\">\n",
              "      <div>\n",
              "<style scoped>\n",
              "    .dataframe tbody tr th:only-of-type {\n",
              "        vertical-align: middle;\n",
              "    }\n",
              "\n",
              "    .dataframe tbody tr th {\n",
              "        vertical-align: top;\n",
              "    }\n",
              "\n",
              "    .dataframe thead th {\n",
              "        text-align: right;\n",
              "    }\n",
              "</style>\n",
              "<table border=\"1\" class=\"dataframe\">\n",
              "  <thead>\n",
              "    <tr style=\"text-align: right;\">\n",
              "      <th></th>\n",
              "      <th>Open</th>\n",
              "      <th>High</th>\n",
              "      <th>Low</th>\n",
              "      <th>Close</th>\n",
              "      <th>Volume</th>\n",
              "    </tr>\n",
              "    <tr>\n",
              "      <th>Date</th>\n",
              "      <th></th>\n",
              "      <th></th>\n",
              "      <th></th>\n",
              "      <th></th>\n",
              "      <th></th>\n",
              "    </tr>\n",
              "  </thead>\n",
              "  <tbody>\n",
              "    <tr>\n",
              "      <th>2006-01-03</th>\n",
              "      <td>211.47</td>\n",
              "      <td>218.05</td>\n",
              "      <td>209.32</td>\n",
              "      <td>217.83</td>\n",
              "      <td>13137450</td>\n",
              "    </tr>\n",
              "    <tr>\n",
              "      <th>2006-01-04</th>\n",
              "      <td>222.17</td>\n",
              "      <td>224.70</td>\n",
              "      <td>220.09</td>\n",
              "      <td>222.84</td>\n",
              "      <td>15292353</td>\n",
              "    </tr>\n",
              "    <tr>\n",
              "      <th>2006-01-05</th>\n",
              "      <td>223.22</td>\n",
              "      <td>226.00</td>\n",
              "      <td>220.97</td>\n",
              "      <td>225.85</td>\n",
              "      <td>10815661</td>\n",
              "    </tr>\n",
              "    <tr>\n",
              "      <th>2006-01-06</th>\n",
              "      <td>228.66</td>\n",
              "      <td>235.49</td>\n",
              "      <td>226.85</td>\n",
              "      <td>233.06</td>\n",
              "      <td>17759521</td>\n",
              "    </tr>\n",
              "    <tr>\n",
              "      <th>2006-01-09</th>\n",
              "      <td>233.44</td>\n",
              "      <td>236.94</td>\n",
              "      <td>230.70</td>\n",
              "      <td>233.68</td>\n",
              "      <td>12795837</td>\n",
              "    </tr>\n",
              "  </tbody>\n",
              "</table>\n",
              "</div>\n",
              "      <button class=\"colab-df-convert\" onclick=\"convertToInteractive('df-be36cb4e-eecb-42e1-bc5e-a63807db6f32')\"\n",
              "              title=\"Convert this dataframe to an interactive table.\"\n",
              "              style=\"display:none;\">\n",
              "        \n",
              "  <svg xmlns=\"http://www.w3.org/2000/svg\" height=\"24px\"viewBox=\"0 0 24 24\"\n",
              "       width=\"24px\">\n",
              "    <path d=\"M0 0h24v24H0V0z\" fill=\"none\"/>\n",
              "    <path d=\"M18.56 5.44l.94 2.06.94-2.06 2.06-.94-2.06-.94-.94-2.06-.94 2.06-2.06.94zm-11 1L8.5 8.5l.94-2.06 2.06-.94-2.06-.94L8.5 2.5l-.94 2.06-2.06.94zm10 10l.94 2.06.94-2.06 2.06-.94-2.06-.94-.94-2.06-.94 2.06-2.06.94z\"/><path d=\"M17.41 7.96l-1.37-1.37c-.4-.4-.92-.59-1.43-.59-.52 0-1.04.2-1.43.59L10.3 9.45l-7.72 7.72c-.78.78-.78 2.05 0 2.83L4 21.41c.39.39.9.59 1.41.59.51 0 1.02-.2 1.41-.59l7.78-7.78 2.81-2.81c.8-.78.8-2.07 0-2.86zM5.41 20L4 18.59l7.72-7.72 1.47 1.35L5.41 20z\"/>\n",
              "  </svg>\n",
              "      </button>\n",
              "      \n",
              "  <style>\n",
              "    .colab-df-container {\n",
              "      display:flex;\n",
              "      flex-wrap:wrap;\n",
              "      gap: 12px;\n",
              "    }\n",
              "\n",
              "    .colab-df-convert {\n",
              "      background-color: #E8F0FE;\n",
              "      border: none;\n",
              "      border-radius: 50%;\n",
              "      cursor: pointer;\n",
              "      display: none;\n",
              "      fill: #1967D2;\n",
              "      height: 32px;\n",
              "      padding: 0 0 0 0;\n",
              "      width: 32px;\n",
              "    }\n",
              "\n",
              "    .colab-df-convert:hover {\n",
              "      background-color: #E2EBFA;\n",
              "      box-shadow: 0px 1px 2px rgba(60, 64, 67, 0.3), 0px 1px 3px 1px rgba(60, 64, 67, 0.15);\n",
              "      fill: #174EA6;\n",
              "    }\n",
              "\n",
              "    [theme=dark] .colab-df-convert {\n",
              "      background-color: #3B4455;\n",
              "      fill: #D2E3FC;\n",
              "    }\n",
              "\n",
              "    [theme=dark] .colab-df-convert:hover {\n",
              "      background-color: #434B5C;\n",
              "      box-shadow: 0px 1px 3px 1px rgba(0, 0, 0, 0.15);\n",
              "      filter: drop-shadow(0px 1px 2px rgba(0, 0, 0, 0.3));\n",
              "      fill: #FFFFFF;\n",
              "    }\n",
              "  </style>\n",
              "\n",
              "      <script>\n",
              "        const buttonEl =\n",
              "          document.querySelector('#df-be36cb4e-eecb-42e1-bc5e-a63807db6f32 button.colab-df-convert');\n",
              "        buttonEl.style.display =\n",
              "          google.colab.kernel.accessAllowed ? 'block' : 'none';\n",
              "\n",
              "        async function convertToInteractive(key) {\n",
              "          const element = document.querySelector('#df-be36cb4e-eecb-42e1-bc5e-a63807db6f32');\n",
              "          const dataTable =\n",
              "            await google.colab.kernel.invokeFunction('convertToInteractive',\n",
              "                                                     [key], {});\n",
              "          if (!dataTable) return;\n",
              "\n",
              "          const docLinkHtml = 'Like what you see? Visit the ' +\n",
              "            '<a target=\"_blank\" href=https://colab.research.google.com/notebooks/data_table.ipynb>data table notebook</a>'\n",
              "            + ' to learn more about interactive tables.';\n",
              "          element.innerHTML = '';\n",
              "          dataTable['output_type'] = 'display_data';\n",
              "          await google.colab.output.renderOutput(dataTable, element);\n",
              "          const docLink = document.createElement('div');\n",
              "          docLink.innerHTML = docLinkHtml;\n",
              "          element.appendChild(docLink);\n",
              "        }\n",
              "      </script>\n",
              "    </div>\n",
              "  </div>\n",
              "  "
            ]
          },
          "metadata": {},
          "execution_count": 270
        }
      ]
    },
    {
      "cell_type": "markdown",
      "source": [
        "Let's use all but the `Volume` column to predict the Close prices now."
      ],
      "metadata": {
        "id": "sF_x7xk6TpWI"
      }
    },
    {
      "cell_type": "code",
      "source": [
        "# Drop volume\n",
        "close_multi_df = df.drop('Volume', axis=1)\n",
        "close_multi_df.head(8)"
      ],
      "metadata": {
        "colab": {
          "base_uri": "https://localhost:8080/",
          "height": 331
        },
        "id": "nFM7mFNLUKPq",
        "outputId": "46c378c7-41ab-4766-f90c-d6a7203db195"
      },
      "execution_count": null,
      "outputs": [
        {
          "output_type": "execute_result",
          "data": {
            "text/plain": [
              "              Open    High     Low   Close\n",
              "Date                                      \n",
              "2006-01-03  211.47  218.05  209.32  217.83\n",
              "2006-01-04  222.17  224.70  220.09  222.84\n",
              "2006-01-05  223.22  226.00  220.97  225.85\n",
              "2006-01-06  228.66  235.49  226.85  233.06\n",
              "2006-01-09  233.44  236.94  230.70  233.68\n",
              "2006-01-10  232.44  235.36  231.25  235.11\n",
              "2006-01-11  235.87  237.79  234.82  236.05\n",
              "2006-01-12  237.10  237.73  230.98  232.05"
            ],
            "text/html": [
              "\n",
              "  <div id=\"df-1c8bdc0c-d79b-41e9-bd00-79b02b608c14\">\n",
              "    <div class=\"colab-df-container\">\n",
              "      <div>\n",
              "<style scoped>\n",
              "    .dataframe tbody tr th:only-of-type {\n",
              "        vertical-align: middle;\n",
              "    }\n",
              "\n",
              "    .dataframe tbody tr th {\n",
              "        vertical-align: top;\n",
              "    }\n",
              "\n",
              "    .dataframe thead th {\n",
              "        text-align: right;\n",
              "    }\n",
              "</style>\n",
              "<table border=\"1\" class=\"dataframe\">\n",
              "  <thead>\n",
              "    <tr style=\"text-align: right;\">\n",
              "      <th></th>\n",
              "      <th>Open</th>\n",
              "      <th>High</th>\n",
              "      <th>Low</th>\n",
              "      <th>Close</th>\n",
              "    </tr>\n",
              "    <tr>\n",
              "      <th>Date</th>\n",
              "      <th></th>\n",
              "      <th></th>\n",
              "      <th></th>\n",
              "      <th></th>\n",
              "    </tr>\n",
              "  </thead>\n",
              "  <tbody>\n",
              "    <tr>\n",
              "      <th>2006-01-03</th>\n",
              "      <td>211.47</td>\n",
              "      <td>218.05</td>\n",
              "      <td>209.32</td>\n",
              "      <td>217.83</td>\n",
              "    </tr>\n",
              "    <tr>\n",
              "      <th>2006-01-04</th>\n",
              "      <td>222.17</td>\n",
              "      <td>224.70</td>\n",
              "      <td>220.09</td>\n",
              "      <td>222.84</td>\n",
              "    </tr>\n",
              "    <tr>\n",
              "      <th>2006-01-05</th>\n",
              "      <td>223.22</td>\n",
              "      <td>226.00</td>\n",
              "      <td>220.97</td>\n",
              "      <td>225.85</td>\n",
              "    </tr>\n",
              "    <tr>\n",
              "      <th>2006-01-06</th>\n",
              "      <td>228.66</td>\n",
              "      <td>235.49</td>\n",
              "      <td>226.85</td>\n",
              "      <td>233.06</td>\n",
              "    </tr>\n",
              "    <tr>\n",
              "      <th>2006-01-09</th>\n",
              "      <td>233.44</td>\n",
              "      <td>236.94</td>\n",
              "      <td>230.70</td>\n",
              "      <td>233.68</td>\n",
              "    </tr>\n",
              "    <tr>\n",
              "      <th>2006-01-10</th>\n",
              "      <td>232.44</td>\n",
              "      <td>235.36</td>\n",
              "      <td>231.25</td>\n",
              "      <td>235.11</td>\n",
              "    </tr>\n",
              "    <tr>\n",
              "      <th>2006-01-11</th>\n",
              "      <td>235.87</td>\n",
              "      <td>237.79</td>\n",
              "      <td>234.82</td>\n",
              "      <td>236.05</td>\n",
              "    </tr>\n",
              "    <tr>\n",
              "      <th>2006-01-12</th>\n",
              "      <td>237.10</td>\n",
              "      <td>237.73</td>\n",
              "      <td>230.98</td>\n",
              "      <td>232.05</td>\n",
              "    </tr>\n",
              "  </tbody>\n",
              "</table>\n",
              "</div>\n",
              "      <button class=\"colab-df-convert\" onclick=\"convertToInteractive('df-1c8bdc0c-d79b-41e9-bd00-79b02b608c14')\"\n",
              "              title=\"Convert this dataframe to an interactive table.\"\n",
              "              style=\"display:none;\">\n",
              "        \n",
              "  <svg xmlns=\"http://www.w3.org/2000/svg\" height=\"24px\"viewBox=\"0 0 24 24\"\n",
              "       width=\"24px\">\n",
              "    <path d=\"M0 0h24v24H0V0z\" fill=\"none\"/>\n",
              "    <path d=\"M18.56 5.44l.94 2.06.94-2.06 2.06-.94-2.06-.94-.94-2.06-.94 2.06-2.06.94zm-11 1L8.5 8.5l.94-2.06 2.06-.94-2.06-.94L8.5 2.5l-.94 2.06-2.06.94zm10 10l.94 2.06.94-2.06 2.06-.94-2.06-.94-.94-2.06-.94 2.06-2.06.94z\"/><path d=\"M17.41 7.96l-1.37-1.37c-.4-.4-.92-.59-1.43-.59-.52 0-1.04.2-1.43.59L10.3 9.45l-7.72 7.72c-.78.78-.78 2.05 0 2.83L4 21.41c.39.39.9.59 1.41.59.51 0 1.02-.2 1.41-.59l7.78-7.78 2.81-2.81c.8-.78.8-2.07 0-2.86zM5.41 20L4 18.59l7.72-7.72 1.47 1.35L5.41 20z\"/>\n",
              "  </svg>\n",
              "      </button>\n",
              "      \n",
              "  <style>\n",
              "    .colab-df-container {\n",
              "      display:flex;\n",
              "      flex-wrap:wrap;\n",
              "      gap: 12px;\n",
              "    }\n",
              "\n",
              "    .colab-df-convert {\n",
              "      background-color: #E8F0FE;\n",
              "      border: none;\n",
              "      border-radius: 50%;\n",
              "      cursor: pointer;\n",
              "      display: none;\n",
              "      fill: #1967D2;\n",
              "      height: 32px;\n",
              "      padding: 0 0 0 0;\n",
              "      width: 32px;\n",
              "    }\n",
              "\n",
              "    .colab-df-convert:hover {\n",
              "      background-color: #E2EBFA;\n",
              "      box-shadow: 0px 1px 2px rgba(60, 64, 67, 0.3), 0px 1px 3px 1px rgba(60, 64, 67, 0.15);\n",
              "      fill: #174EA6;\n",
              "    }\n",
              "\n",
              "    [theme=dark] .colab-df-convert {\n",
              "      background-color: #3B4455;\n",
              "      fill: #D2E3FC;\n",
              "    }\n",
              "\n",
              "    [theme=dark] .colab-df-convert:hover {\n",
              "      background-color: #434B5C;\n",
              "      box-shadow: 0px 1px 3px 1px rgba(0, 0, 0, 0.15);\n",
              "      filter: drop-shadow(0px 1px 2px rgba(0, 0, 0, 0.3));\n",
              "      fill: #FFFFFF;\n",
              "    }\n",
              "  </style>\n",
              "\n",
              "      <script>\n",
              "        const buttonEl =\n",
              "          document.querySelector('#df-1c8bdc0c-d79b-41e9-bd00-79b02b608c14 button.colab-df-convert');\n",
              "        buttonEl.style.display =\n",
              "          google.colab.kernel.accessAllowed ? 'block' : 'none';\n",
              "\n",
              "        async function convertToInteractive(key) {\n",
              "          const element = document.querySelector('#df-1c8bdc0c-d79b-41e9-bd00-79b02b608c14');\n",
              "          const dataTable =\n",
              "            await google.colab.kernel.invokeFunction('convertToInteractive',\n",
              "                                                     [key], {});\n",
              "          if (!dataTable) return;\n",
              "\n",
              "          const docLinkHtml = 'Like what you see? Visit the ' +\n",
              "            '<a target=\"_blank\" href=https://colab.research.google.com/notebooks/data_table.ipynb>data table notebook</a>'\n",
              "            + ' to learn more about interactive tables.';\n",
              "          element.innerHTML = '';\n",
              "          dataTable['output_type'] = 'display_data';\n",
              "          await google.colab.output.renderOutput(dataTable, element);\n",
              "          const docLink = document.createElement('div');\n",
              "          docLink.innerHTML = docLinkHtml;\n",
              "          element.appendChild(docLink);\n",
              "        }\n",
              "      </script>\n",
              "    </div>\n",
              "  </div>\n",
              "  "
            ]
          },
          "metadata": {},
          "execution_count": 271
        }
      ]
    },
    {
      "cell_type": "code",
      "source": [
        "close_multi_df.plot();"
      ],
      "metadata": {
        "colab": {
          "base_uri": "https://localhost:8080/",
          "height": 422
        },
        "id": "z03FHiRMURzh",
        "outputId": "a0f91985-9470-4d8a-a344-2cee35a63b6f"
      },
      "execution_count": null,
      "outputs": [
        {
          "output_type": "display_data",
          "data": {
            "text/plain": [
              "<Figure size 640x480 with 1 Axes>"
            ],
            "image/png": "[encoded data removed]"
          },
          "metadata": {}
        }
      ]
    },
    {
      "cell_type": "code",
      "source": [
        "def preprocess(data):\n",
        "  mean = np.mean(data)\n",
        "  std = np.std(data)\n",
        "  processed_data = (data - mean) / std\n",
        "  return data, processed_data"
      ],
      "metadata": {
        "id": "jjWd9sKlWrbj"
      },
      "execution_count": null,
      "outputs": []
    },
    {
      "cell_type": "code",
      "source": [
        "split = int(0.8 * len(close_multi_df))\n",
        "\n",
        "multi_train_data = close_multi_df[:split]\n",
        "multi_val_data = close_multi_df[split:]"
      ],
      "metadata": {
        "id": "nGZxD2_KZgsh"
      },
      "execution_count": null,
      "outputs": []
    },
    {
      "cell_type": "code",
      "source": [
        "# Let's update our windowing function\n",
        "WINDOW = 7\n",
        "\n",
        "def multivar_windows(data, window=WINDOW):\n",
        "\n",
        "  data = np.array(data)\n",
        "  sequences = []\n",
        "  labels = []\n",
        "\n",
        "  for i in range(len(data) - window):\n",
        "    row = [r for r in data[i: i + window]]\n",
        "    sequences.append(np.array(row))\n",
        "    label = data[i + window][-1]\n",
        "    labels.append(np.array(label))\n",
        "\n",
        "  return np.array(sequences), np.array(labels)"
      ],
      "metadata": {
        "id": "lCQ3yJ8NZ-QD"
      },
      "execution_count": null,
      "outputs": []
    },
    {
      "cell_type": "code",
      "source": [
        "X_train, y_train = multivar_windows(multi_train_data)\n",
        "X_val, y_val = multivar_windows(multi_val_data)"
      ],
      "metadata": {
        "id": "hOjjszSxa68u"
      },
      "execution_count": null,
      "outputs": []
    },
    {
      "cell_type": "code",
      "source": [
        "X_train[:5], y_train[:5]"
      ],
      "metadata": {
        "colab": {
          "base_uri": "https://localhost:8080/"
        },
        "id": "HDhxT4hEbTjO",
        "outputId": "9c3bed92-1233-4409-8e7a-318291bbc39f"
      },
      "execution_count": null,
      "outputs": [
        {
          "output_type": "execute_result",
          "data": {
            "text/plain": [
              "(array([[[211.47, 218.05, 209.32, 217.83],\n",
              "         [222.17, 224.7 , 220.09, 222.84],\n",
              "         [223.22, 226.  , 220.97, 225.85],\n",
              "         [228.66, 235.49, 226.85, 233.06],\n",
              "         [233.44, 236.94, 230.7 , 233.68],\n",
              "         [232.44, 235.36, 231.25, 235.11],\n",
              "         [235.87, 237.79, 234.82, 236.05]],\n",
              " \n",
              "        [[222.17, 224.7 , 220.09, 222.84],\n",
              "         [223.22, 226.  , 220.97, 225.85],\n",
              "         [228.66, 235.49, 226.85, 233.06],\n",
              "         [233.44, 236.94, 230.7 , 233.68],\n",
              "         [232.44, 235.36, 231.25, 235.11],\n",
              "         [235.87, 237.79, 234.82, 236.05],\n",
              "         [237.1 , 237.73, 230.98, 232.05]],\n",
              " \n",
              "        [[223.22, 226.  , 220.97, 225.85],\n",
              "         [228.66, 235.49, 226.85, 233.06],\n",
              "         [233.44, 236.94, 230.7 , 233.68],\n",
              "         [232.44, 235.36, 231.25, 235.11],\n",
              "         [235.87, 237.79, 234.82, 236.05],\n",
              "         [237.1 , 237.73, 230.98, 232.05],\n",
              "         [232.39, 233.68, 231.04, 233.36]],\n",
              " \n",
              "        [[228.66, 235.49, 226.85, 233.06],\n",
              "         [233.44, 236.94, 230.7 , 233.68],\n",
              "         [232.44, 235.36, 231.25, 235.11],\n",
              "         [235.87, 237.79, 234.82, 236.05],\n",
              "         [237.1 , 237.73, 230.98, 232.05],\n",
              "         [232.39, 233.68, 231.04, 233.36],\n",
              "         [231.76, 235.18, 231.5 , 233.79]],\n",
              " \n",
              "        [[233.44, 236.94, 230.7 , 233.68],\n",
              "         [232.44, 235.36, 231.25, 235.11],\n",
              "         [235.87, 237.79, 234.82, 236.05],\n",
              "         [237.1 , 237.73, 230.98, 232.05],\n",
              "         [232.39, 233.68, 231.04, 233.36],\n",
              "         [231.76, 235.18, 231.5 , 233.79],\n",
              "         [223.87, 228.91, 221.85, 222.68]]]),\n",
              " array([232.05, 233.36, 233.79, 222.68, 218.44]))"
            ]
          },
          "metadata": {},
          "execution_count": 277
        }
      ]
    },
    {
      "cell_type": "code",
      "source": [
        "multivar_lstm = Sequential([\n",
        "    layers.Input((7, 4)),\n",
        "    layers.LSTM(64),\n",
        "    layers.Dense(32),\n",
        "    layers.Dropout(0.3),\n",
        "    layers.Dense(4, 'linear')\n",
        "], name='multivar_lstm')\n",
        "\n",
        "multivar_lstm.compile(loss = losses.Huber(),\n",
        "                      optimizer='adam',\n",
        "                      metrics=['mae', 'mse'])"
      ],
      "metadata": {
        "id": "jjSifO83e6uF"
      },
      "execution_count": null,
      "outputs": []
    },
    {
      "cell_type": "code",
      "source": [
        "history = multivar_lstm.fit(X_train, y_train, epochs=100,\n",
        "                            validation_data=(X_val, y_val))"
      ],
      "metadata": {
        "colab": {
          "base_uri": "https://localhost:8080/"
        },
        "id": "KWBa4ltqhyhs",
        "outputId": "5018bcd2-e00b-403e-a18e-9df33430db73"
      },
      "execution_count": null,
      "outputs": [
        {
          "output_type": "stream",
          "name": "stdout",
          "text": [
            "Epoch 1/100\n",
            "76/76 [==============================] - 3s 11ms/step - loss: 323.5705 - mae: 324.0705 - mse: 121737.1562 - val_loss: 818.0932 - val_mae: 818.5932 - val_mse: 682703.4375\n",
            "Epoch 2/100\n",
            "76/76 [==============================] - 0s 5ms/step - loss: 303.4001 - mae: 303.9001 - mse: 109183.4062 - val_loss: 785.4991 - val_mae: 785.9991 - val_mse: 630415.2500\n",
            "Epoch 3/100\n",
            "76/76 [==============================] - 0s 5ms/step - loss: 257.7092 - mae: 258.2092 - mse: 83955.6172 - val_loss: 725.6003 - val_mae: 726.1003 - val_mse: 539879.6875\n",
            "Epoch 4/100\n",
            "76/76 [==============================] - 0s 5ms/step - loss: 184.1131 - mae: 184.6127 - mse: 51461.9375 - val_loss: 638.0983 - val_mae: 638.5983 - val_mse: 420501.3125\n",
            "Epoch 5/100\n",
            "76/76 [==============================] - 0s 4ms/step - loss: 117.6820 - mae: 118.1805 - mse: 27673.8027 - val_loss: 571.1108 - val_mae: 571.6108 - val_mse: 339146.2500\n",
            "Epoch 6/100\n",
            "76/76 [==============================] - 0s 5ms/step - loss: 101.4966 - mae: 101.9951 - mse: 20899.7891 - val_loss: 541.3849 - val_mae: 541.8849 - val_mse: 306151.0625\n",
            "Epoch 7/100\n",
            "76/76 [==============================] - 0s 5ms/step - loss: 91.6904 - mae: 92.1886 - mse: 17384.4453 - val_loss: 517.1039 - val_mae: 517.6039 - val_mse: 280441.5000\n",
            "Epoch 8/100\n",
            "76/76 [==============================] - 0s 5ms/step - loss: 78.6728 - mae: 79.1709 - mse: 13012.0459 - val_loss: 480.8497 - val_mae: 481.3497 - val_mse: 244299.9062\n",
            "Epoch 9/100\n",
            "76/76 [==============================] - 0s 5ms/step - loss: 73.1817 - mae: 73.6800 - mse: 10763.7705 - val_loss: 454.6570 - val_mae: 455.1570 - val_mse: 219767.7500\n",
            "Epoch 10/100\n",
            "76/76 [==============================] - 0s 5ms/step - loss: 64.8244 - mae: 65.3219 - mse: 8973.3682 - val_loss: 435.6893 - val_mae: 436.1893 - val_mse: 202773.6719\n",
            "Epoch 11/100\n",
            "76/76 [==============================] - 0s 5ms/step - loss: 60.2791 - mae: 60.7769 - mse: 7168.4404 - val_loss: 411.6752 - val_mae: 412.1752 - val_mse: 182457.7031\n",
            "Epoch 12/100\n",
            "76/76 [==============================] - 0s 5ms/step - loss: 53.9036 - mae: 54.4011 - mse: 5729.9707 - val_loss: 383.7824 - val_mae: 384.2824 - val_mse: 160255.8594\n",
            "Epoch 13/100\n",
            "76/76 [==============================] - 0s 4ms/step - loss: 47.3804 - mae: 47.8772 - mse: 4510.9707 - val_loss: 388.9519 - val_mae: 389.4519 - val_mse: 164250.5469\n",
            "Epoch 14/100\n",
            "76/76 [==============================] - 0s 5ms/step - loss: 45.0793 - mae: 45.5766 - mse: 4124.0825 - val_loss: 351.3901 - val_mae: 351.8901 - val_mse: 136322.2188\n",
            "Epoch 15/100\n",
            "76/76 [==============================] - 0s 5ms/step - loss: 39.9479 - mae: 40.4447 - mse: 3121.0942 - val_loss: 322.7777 - val_mae: 323.2777 - val_mse: 117063.2656\n",
            "Epoch 16/100\n",
            "76/76 [==============================] - 0s 5ms/step - loss: 38.8962 - mae: 39.3927 - mse: 2816.4771 - val_loss: 306.8181 - val_mae: 307.3181 - val_mse: 106694.8906\n",
            "Epoch 17/100\n",
            "76/76 [==============================] - 0s 5ms/step - loss: 35.0569 - mae: 35.5532 - mse: 2369.3840 - val_loss: 298.9759 - val_mae: 299.4759 - val_mse: 102112.7031\n",
            "Epoch 18/100\n",
            "76/76 [==============================] - 0s 5ms/step - loss: 35.2358 - mae: 35.7327 - mse: 2395.1909 - val_loss: 306.9067 - val_mae: 307.4067 - val_mse: 107053.0938\n",
            "Epoch 19/100\n",
            "76/76 [==============================] - 0s 5ms/step - loss: 34.0473 - mae: 34.5432 - mse: 2270.8337 - val_loss: 290.4893 - val_mae: 290.9893 - val_mse: 97106.6094\n",
            "Epoch 20/100\n",
            "76/76 [==============================] - 0s 5ms/step - loss: 34.4460 - mae: 34.9426 - mse: 2283.9614 - val_loss: 276.4005 - val_mae: 276.9005 - val_mse: 89161.4922\n",
            "Epoch 21/100\n",
            "76/76 [==============================] - 0s 5ms/step - loss: 35.5097 - mae: 36.0065 - mse: 2393.7385 - val_loss: 300.5338 - val_mae: 301.0338 - val_mse: 103040.8203\n",
            "Epoch 22/100\n",
            "76/76 [==============================] - 0s 5ms/step - loss: 33.4746 - mae: 33.9714 - mse: 2136.2366 - val_loss: 278.8087 - val_mae: 279.3087 - val_mse: 90313.1641\n",
            "Epoch 23/100\n",
            "76/76 [==============================] - 0s 4ms/step - loss: 33.2477 - mae: 33.7435 - mse: 2111.4402 - val_loss: 266.1488 - val_mae: 266.6488 - val_mse: 83452.2734\n",
            "Epoch 24/100\n",
            "76/76 [==============================] - 0s 6ms/step - loss: 33.6138 - mae: 34.1107 - mse: 2141.9226 - val_loss: 265.8876 - val_mae: 266.3876 - val_mse: 82693.8906\n",
            "Epoch 25/100\n",
            "76/76 [==============================] - 0s 6ms/step - loss: 33.2246 - mae: 33.7210 - mse: 2071.5557 - val_loss: 274.5727 - val_mae: 275.0727 - val_mse: 88027.5078\n",
            "Epoch 26/100\n",
            "76/76 [==============================] - 0s 6ms/step - loss: 33.8714 - mae: 34.3684 - mse: 2171.4756 - val_loss: 264.8860 - val_mae: 265.3860 - val_mse: 82975.8516\n",
            "Epoch 27/100\n",
            "76/76 [==============================] - 1s 7ms/step - loss: 33.9154 - mae: 34.4122 - mse: 2168.1702 - val_loss: 264.0487 - val_mae: 264.5487 - val_mse: 82304.6875\n",
            "Epoch 28/100\n",
            "76/76 [==============================] - 0s 5ms/step - loss: 33.4248 - mae: 33.9209 - mse: 2108.8145 - val_loss: 260.5714 - val_mae: 261.0714 - val_mse: 80587.6953\n",
            "Epoch 29/100\n",
            "76/76 [==============================] - 0s 5ms/step - loss: 33.0652 - mae: 33.5616 - mse: 2074.9092 - val_loss: 279.3912 - val_mae: 279.8912 - val_mse: 90862.7031\n",
            "Epoch 30/100\n",
            "76/76 [==============================] - 0s 5ms/step - loss: 33.1385 - mae: 33.6349 - mse: 2051.3872 - val_loss: 271.1136 - val_mae: 271.6136 - val_mse: 85913.8125\n",
            "Epoch 31/100\n",
            "76/76 [==============================] - 0s 5ms/step - loss: 33.0453 - mae: 33.5419 - mse: 2013.6375 - val_loss: 265.1359 - val_mae: 265.6359 - val_mse: 83015.4297\n",
            "Epoch 32/100\n",
            "76/76 [==============================] - 0s 5ms/step - loss: 33.4809 - mae: 33.9773 - mse: 2142.5654 - val_loss: 262.8481 - val_mae: 263.3481 - val_mse: 81687.9297\n",
            "Epoch 33/100\n",
            "76/76 [==============================] - 0s 5ms/step - loss: 33.2997 - mae: 33.7966 - mse: 2117.4333 - val_loss: 261.7587 - val_mae: 262.2587 - val_mse: 81205.3672\n",
            "Epoch 34/100\n",
            "76/76 [==============================] - 0s 5ms/step - loss: 33.0045 - mae: 33.5012 - mse: 2050.7146 - val_loss: 260.4832 - val_mae: 260.9832 - val_mse: 80370.2188\n",
            "Epoch 35/100\n",
            "76/76 [==============================] - 0s 5ms/step - loss: 33.0708 - mae: 33.5668 - mse: 2053.4895 - val_loss: 259.0629 - val_mae: 259.5629 - val_mse: 77878.7812\n",
            "Epoch 36/100\n",
            "76/76 [==============================] - 0s 5ms/step - loss: 34.2873 - mae: 34.7838 - mse: 2187.9531 - val_loss: 232.1557 - val_mae: 232.6557 - val_mse: 66445.1406\n",
            "Epoch 37/100\n",
            "76/76 [==============================] - 0s 5ms/step - loss: 32.9213 - mae: 33.4174 - mse: 2171.7434 - val_loss: 279.8508 - val_mae: 280.3508 - val_mse: 90518.7188\n",
            "Epoch 38/100\n",
            "76/76 [==============================] - 0s 5ms/step - loss: 32.8031 - mae: 33.2995 - mse: 2013.3831 - val_loss: 247.4842 - val_mae: 247.9842 - val_mse: 73951.2031\n",
            "Epoch 39/100\n",
            "76/76 [==============================] - 0s 5ms/step - loss: 32.7805 - mae: 33.2761 - mse: 2112.8511 - val_loss: 276.5516 - val_mae: 277.0516 - val_mse: 86240.4922\n",
            "Epoch 40/100\n",
            "76/76 [==============================] - 0s 5ms/step - loss: 33.5974 - mae: 34.0935 - mse: 2175.3184 - val_loss: 277.6615 - val_mae: 278.1615 - val_mse: 89718.1328\n",
            "Epoch 41/100\n",
            "76/76 [==============================] - 0s 5ms/step - loss: 32.1533 - mae: 32.6501 - mse: 1965.2207 - val_loss: 271.0430 - val_mae: 271.5430 - val_mse: 86196.9141\n",
            "Epoch 42/100\n",
            "76/76 [==============================] - 0s 5ms/step - loss: 32.7059 - mae: 33.2025 - mse: 2028.2747 - val_loss: 263.0218 - val_mae: 263.5218 - val_mse: 81427.0625\n",
            "Epoch 43/100\n",
            "76/76 [==============================] - 0s 5ms/step - loss: 32.5112 - mae: 33.0075 - mse: 2024.2583 - val_loss: 260.8157 - val_mae: 261.3157 - val_mse: 80746.3203\n",
            "Epoch 44/100\n",
            "76/76 [==============================] - 0s 5ms/step - loss: 31.7408 - mae: 32.2364 - mse: 1987.3623 - val_loss: 264.3340 - val_mae: 264.8340 - val_mse: 82516.2891\n",
            "Epoch 45/100\n",
            "76/76 [==============================] - 0s 4ms/step - loss: 33.8997 - mae: 34.3958 - mse: 2285.4941 - val_loss: 288.6432 - val_mae: 289.1432 - val_mse: 96145.4844\n",
            "Epoch 46/100\n",
            "76/76 [==============================] - 0s 4ms/step - loss: 32.6471 - mae: 33.1427 - mse: 2045.8812 - val_loss: 278.0757 - val_mae: 278.5757 - val_mse: 90138.9219\n",
            "Epoch 47/100\n",
            "76/76 [==============================] - 0s 4ms/step - loss: 34.8868 - mae: 35.3830 - mse: 2259.4790 - val_loss: 273.7756 - val_mae: 274.2756 - val_mse: 87773.9297\n",
            "Epoch 48/100\n",
            "76/76 [==============================] - 0s 5ms/step - loss: 33.1080 - mae: 33.6038 - mse: 2023.0411 - val_loss: 274.1699 - val_mae: 274.6699 - val_mse: 88010.3984\n",
            "Epoch 49/100\n",
            "76/76 [==============================] - 0s 5ms/step - loss: 35.1545 - mae: 35.6515 - mse: 2398.4910 - val_loss: 304.5777 - val_mae: 305.0777 - val_mse: 104505.1094\n",
            "Epoch 50/100\n",
            "76/76 [==============================] - 0s 5ms/step - loss: 32.4389 - mae: 32.9357 - mse: 2015.1982 - val_loss: 256.1230 - val_mae: 256.6230 - val_mse: 78313.6328\n",
            "Epoch 51/100\n",
            "76/76 [==============================] - 0s 5ms/step - loss: 32.5173 - mae: 33.0141 - mse: 1954.3759 - val_loss: 255.4215 - val_mae: 255.9215 - val_mse: 78063.9297\n",
            "Epoch 52/100\n",
            "76/76 [==============================] - 0s 5ms/step - loss: 32.9681 - mae: 33.4649 - mse: 2042.2491 - val_loss: 256.5847 - val_mae: 257.0847 - val_mse: 78597.3984\n",
            "Epoch 53/100\n",
            "76/76 [==============================] - 0s 5ms/step - loss: 31.9003 - mae: 32.3968 - mse: 1909.6510 - val_loss: 258.2432 - val_mae: 258.7432 - val_mse: 79479.9219\n",
            "Epoch 54/100\n",
            "76/76 [==============================] - 0s 5ms/step - loss: 34.1025 - mae: 34.5998 - mse: 2192.5920 - val_loss: 263.0773 - val_mae: 263.5773 - val_mse: 81975.5859\n",
            "Epoch 55/100\n",
            "76/76 [==============================] - 0s 6ms/step - loss: 31.4662 - mae: 31.9626 - mse: 1905.2714 - val_loss: 261.5766 - val_mae: 262.0766 - val_mse: 81158.9297\n",
            "Epoch 56/100\n",
            "76/76 [==============================] - 0s 6ms/step - loss: 34.0632 - mae: 34.5598 - mse: 2170.5002 - val_loss: 261.2694 - val_mae: 261.7694 - val_mse: 81002.2109\n",
            "Epoch 57/100\n",
            "76/76 [==============================] - 0s 6ms/step - loss: 31.4854 - mae: 31.9813 - mse: 1896.6259 - val_loss: 258.8897 - val_mae: 259.3897 - val_mse: 79710.4531\n",
            "Epoch 58/100\n",
            "76/76 [==============================] - 1s 7ms/step - loss: 32.3780 - mae: 32.8745 - mse: 2000.2180 - val_loss: 257.4636 - val_mae: 257.9636 - val_mse: 78994.6719\n",
            "Epoch 59/100\n",
            "76/76 [==============================] - 0s 6ms/step - loss: 32.3024 - mae: 32.7989 - mse: 2071.6006 - val_loss: 255.3679 - val_mae: 255.8679 - val_mse: 78022.4375\n",
            "Epoch 60/100\n",
            "76/76 [==============================] - 0s 5ms/step - loss: 32.1329 - mae: 32.6291 - mse: 1909.6049 - val_loss: 257.1763 - val_mae: 257.6763 - val_mse: 78879.4609\n",
            "Epoch 61/100\n",
            "76/76 [==============================] - 0s 5ms/step - loss: 31.6930 - mae: 32.1889 - mse: 1898.0500 - val_loss: 252.1276 - val_mae: 252.6276 - val_mse: 76182.6094\n",
            "Epoch 62/100\n",
            "76/76 [==============================] - 0s 5ms/step - loss: 32.5590 - mae: 33.0554 - mse: 2011.6726 - val_loss: 249.2840 - val_mae: 249.7840 - val_mse: 74779.6172\n",
            "Epoch 63/100\n",
            "76/76 [==============================] - 0s 4ms/step - loss: 32.0756 - mae: 32.5718 - mse: 1930.8656 - val_loss: 251.7624 - val_mae: 252.2624 - val_mse: 76047.8906\n",
            "Epoch 64/100\n",
            "76/76 [==============================] - 0s 5ms/step - loss: 32.5188 - mae: 33.0154 - mse: 2013.6271 - val_loss: 255.6411 - val_mae: 256.1411 - val_mse: 77637.3438\n",
            "Epoch 65/100\n",
            "76/76 [==============================] - 0s 5ms/step - loss: 32.7183 - mae: 33.2146 - mse: 2054.5391 - val_loss: 252.7459 - val_mae: 253.2459 - val_mse: 76114.5391\n",
            "Epoch 66/100\n",
            "76/76 [==============================] - 0s 5ms/step - loss: 32.0985 - mae: 32.5943 - mse: 1981.0845 - val_loss: 251.7933 - val_mae: 252.2933 - val_mse: 75660.7188\n",
            "Epoch 67/100\n",
            "76/76 [==============================] - 0s 5ms/step - loss: 31.9630 - mae: 32.4592 - mse: 1937.3486 - val_loss: 248.9893 - val_mae: 249.4893 - val_mse: 74357.7188\n",
            "Epoch 68/100\n",
            "76/76 [==============================] - 0s 5ms/step - loss: 32.6576 - mae: 33.1539 - mse: 2011.1819 - val_loss: 208.8609 - val_mae: 209.3609 - val_mse: 55221.3281\n",
            "Epoch 69/100\n",
            "76/76 [==============================] - 0s 5ms/step - loss: 32.9817 - mae: 33.4785 - mse: 2077.8420 - val_loss: 247.7995 - val_mae: 248.2995 - val_mse: 74142.0000\n",
            "Epoch 70/100\n",
            "76/76 [==============================] - 0s 4ms/step - loss: 32.5636 - mae: 33.0599 - mse: 2069.6594 - val_loss: 244.4128 - val_mae: 244.9128 - val_mse: 70737.8672\n",
            "Epoch 71/100\n",
            "76/76 [==============================] - 0s 4ms/step - loss: 31.8971 - mae: 32.3932 - mse: 1937.7871 - val_loss: 283.0310 - val_mae: 283.5310 - val_mse: 92640.6406\n",
            "Epoch 72/100\n",
            "76/76 [==============================] - 0s 5ms/step - loss: 33.4985 - mae: 33.9947 - mse: 2149.5308 - val_loss: 272.5214 - val_mae: 273.0214 - val_mse: 87105.6172\n",
            "Epoch 73/100\n",
            "76/76 [==============================] - 0s 5ms/step - loss: 31.9830 - mae: 32.4790 - mse: 1971.2936 - val_loss: 265.1178 - val_mae: 265.6178 - val_mse: 82664.9844\n",
            "Epoch 74/100\n",
            "76/76 [==============================] - 0s 5ms/step - loss: 32.4728 - mae: 32.9692 - mse: 2000.2823 - val_loss: 265.5293 - val_mae: 266.0293 - val_mse: 83272.1250\n",
            "Epoch 75/100\n",
            "76/76 [==============================] - 0s 5ms/step - loss: 32.9957 - mae: 33.4919 - mse: 2125.4771 - val_loss: 294.9552 - val_mae: 295.4552 - val_mse: 99762.2812\n",
            "Epoch 76/100\n",
            "76/76 [==============================] - 0s 5ms/step - loss: 32.1423 - mae: 32.6376 - mse: 2074.5100 - val_loss: 278.1458 - val_mae: 278.6458 - val_mse: 90137.2500\n",
            "Epoch 77/100\n",
            "76/76 [==============================] - 0s 5ms/step - loss: 33.2020 - mae: 33.6991 - mse: 2044.7352 - val_loss: 272.7928 - val_mae: 273.2928 - val_mse: 87063.6641\n",
            "Epoch 78/100\n",
            "76/76 [==============================] - 0s 5ms/step - loss: 34.0007 - mae: 34.4970 - mse: 2230.1311 - val_loss: 270.4515 - val_mae: 270.9515 - val_mse: 85015.3594\n",
            "Epoch 79/100\n",
            "76/76 [==============================] - 0s 4ms/step - loss: 33.9713 - mae: 34.4680 - mse: 2274.7034 - val_loss: 283.3527 - val_mae: 283.8527 - val_mse: 93078.6719\n",
            "Epoch 80/100\n",
            "76/76 [==============================] - 0s 5ms/step - loss: 33.5380 - mae: 34.0345 - mse: 2159.1860 - val_loss: 277.1003 - val_mae: 277.6003 - val_mse: 89585.8516\n",
            "Epoch 81/100\n",
            "76/76 [==============================] - 0s 5ms/step - loss: 33.1268 - mae: 33.6238 - mse: 2077.0088 - val_loss: 273.9531 - val_mae: 274.4531 - val_mse: 87587.6094\n",
            "Epoch 82/100\n",
            "76/76 [==============================] - 0s 5ms/step - loss: 32.2881 - mae: 32.7843 - mse: 1975.1786 - val_loss: 268.2266 - val_mae: 268.7266 - val_mse: 84795.6250\n",
            "Epoch 83/100\n",
            "76/76 [==============================] - 0s 5ms/step - loss: 32.6532 - mae: 33.1494 - mse: 2036.7219 - val_loss: 266.5538 - val_mae: 267.0538 - val_mse: 83653.1797\n",
            "Epoch 84/100\n",
            "76/76 [==============================] - 0s 5ms/step - loss: 33.1567 - mae: 33.6532 - mse: 2022.7496 - val_loss: 265.8272 - val_mae: 266.3272 - val_mse: 83142.8047\n",
            "Epoch 85/100\n",
            "76/76 [==============================] - 0s 5ms/step - loss: 32.3569 - mae: 32.8531 - mse: 2022.6462 - val_loss: 257.2808 - val_mae: 257.7808 - val_mse: 78989.1562\n",
            "Epoch 86/100\n",
            "76/76 [==============================] - 1s 7ms/step - loss: 31.8346 - mae: 32.3311 - mse: 1930.5033 - val_loss: 260.4038 - val_mae: 260.9038 - val_mse: 80543.0156\n",
            "Epoch 87/100\n",
            "76/76 [==============================] - 0s 6ms/step - loss: 32.2451 - mae: 32.7415 - mse: 1906.3741 - val_loss: 259.3987 - val_mae: 259.8987 - val_mse: 80142.2969\n",
            "Epoch 88/100\n",
            "76/76 [==============================] - 0s 6ms/step - loss: 32.6285 - mae: 33.1251 - mse: 2024.9458 - val_loss: 254.5528 - val_mae: 255.0528 - val_mse: 77586.0000\n",
            "Epoch 89/100\n",
            "76/76 [==============================] - 0s 6ms/step - loss: 32.6275 - mae: 33.1235 - mse: 1988.0187 - val_loss: 266.7924 - val_mae: 267.2924 - val_mse: 83761.5547\n",
            "Epoch 90/100\n",
            "76/76 [==============================] - 0s 6ms/step - loss: 32.1591 - mae: 32.6553 - mse: 2017.1493 - val_loss: 262.9677 - val_mae: 263.4677 - val_mse: 81951.0859\n",
            "Epoch 91/100\n",
            "76/76 [==============================] - 0s 5ms/step - loss: 31.8566 - mae: 32.3530 - mse: 1895.2035 - val_loss: 264.7145 - val_mae: 265.2145 - val_mse: 82655.5469\n",
            "Epoch 92/100\n",
            "76/76 [==============================] - 1s 11ms/step - loss: 33.8512 - mae: 34.3483 - mse: 2149.0979 - val_loss: 262.9790 - val_mae: 263.4790 - val_mse: 81768.3750\n",
            "Epoch 93/100\n",
            "76/76 [==============================] - 1s 10ms/step - loss: 33.4116 - mae: 33.9077 - mse: 2106.5249 - val_loss: 258.2770 - val_mae: 258.7770 - val_mse: 78218.5547\n",
            "Epoch 94/100\n",
            "76/76 [==============================] - 1s 7ms/step - loss: 33.7397 - mae: 34.2361 - mse: 2194.0896 - val_loss: 300.0501 - val_mae: 300.5501 - val_mse: 102931.4297\n",
            "Epoch 95/100\n",
            "76/76 [==============================] - 1s 12ms/step - loss: 33.1739 - mae: 33.6703 - mse: 2169.1797 - val_loss: 283.4218 - val_mae: 283.9218 - val_mse: 93152.6406\n",
            "Epoch 96/100\n",
            "76/76 [==============================] - 1s 7ms/step - loss: 31.4677 - mae: 31.9643 - mse: 1899.0118 - val_loss: 276.2119 - val_mae: 276.7119 - val_mse: 89140.6094\n",
            "Epoch 97/100\n",
            "76/76 [==============================] - 0s 5ms/step - loss: 34.3550 - mae: 34.8517 - mse: 2247.8750 - val_loss: 322.4038 - val_mae: 322.9038 - val_mse: 116867.2188\n",
            "Epoch 98/100\n",
            "76/76 [==============================] - 0s 5ms/step - loss: 32.9416 - mae: 33.4378 - mse: 2203.8220 - val_loss: 294.1035 - val_mae: 294.6035 - val_mse: 99372.3359\n",
            "Epoch 99/100\n",
            "76/76 [==============================] - 0s 5ms/step - loss: 33.2351 - mae: 33.7315 - mse: 2152.4258 - val_loss: 277.9659 - val_mae: 278.4659 - val_mse: 90065.9844\n",
            "Epoch 100/100\n",
            "76/76 [==============================] - 0s 5ms/step - loss: 34.2086 - mae: 34.7049 - mse: 2319.1965 - val_loss: 268.2985 - val_mae: 268.7985 - val_mse: 84391.1484\n"
          ]
        }
      ]
    },
    {
      "cell_type": "code",
      "source": [
        "open_mean = np.mean(X_train[:, :, 0])\n",
        "open_std = np.std(X_train[:, :, 0])\n",
        "\n",
        "high_mean = np.mean(X_train[:, :, 1])\n",
        "high_std = np.std(X_train[:, :, 1])\n",
        "\n",
        "low_mean = np.mean(X_train[:, :, 2])\n",
        "low_std = np.std(X_train[:, :, 2])\n",
        "\n",
        "close_mean = np.mean(X_train[:, :, 3])\n",
        "close_std = np.std(X_train[:, :, 3])\n",
        "\n",
        "# Create preprocessing functions\n",
        "def preprocess(X):\n",
        "  X[:, :, 0] = (X[:, :, 0] - open_mean) / open_std\n",
        "  X[:, :, 1] = (X[:, :, 1] - high_mean) / high_std\n",
        "  X[:, :, 2] = (X[:, :, 2] - low_mean) / low_std\n",
        "  X[:, :, 3] = (X[:, :, 3] - close_mean) / close_std\n",
        "  return X\n",
        "\n",
        "def preprocess_outputs(y):\n",
        "  y = (y - close_mean) / close_std\n",
        "  return y"
      ],
      "metadata": {
        "id": "YFIKiaReh89k"
      },
      "execution_count": null,
      "outputs": []
    },
    {
      "cell_type": "code",
      "source": [
        "X_train = preprocess(X_train)\n",
        "X_val = preprocess(X_val)\n",
        "\n",
        "y_train = preprocess_outputs(y_train)\n",
        "y_val = preprocess_outputs(y_val)"
      ],
      "metadata": {
        "id": "WUYlF58djoaR"
      },
      "execution_count": null,
      "outputs": []
    },
    {
      "cell_type": "code",
      "source": [
        "X_train.shape, X_val.shape"
      ],
      "metadata": {
        "colab": {
          "base_uri": "https://localhost:8080/"
        },
        "id": "0rO6GBiAnKmm",
        "outputId": "0744acb0-2fa7-43ad-b82f-579f246c8a5b"
      },
      "execution_count": null,
      "outputs": [
        {
          "output_type": "execute_result",
          "data": {
            "text/plain": [
              "((2408, 7, 4), (597, 7, 4))"
            ]
          },
          "metadata": {},
          "execution_count": 282
        }
      ]
    },
    {
      "cell_type": "code",
      "source": [
        "y_train[:10]"
      ],
      "metadata": {
        "colab": {
          "base_uri": "https://localhost:8080/"
        },
        "id": "gCvvIKFtnNej",
        "outputId": "cd6dc35e-3614-4c3e-f570-923af758df21"
      },
      "execution_count": null,
      "outputs": [
        {
          "output_type": "execute_result",
          "data": {
            "text/plain": [
              "array([-0.74312009, -0.73294025, -0.72959878, -0.81593315, -0.84888164,\n",
              "       -0.99272046, -0.88369514, -0.82323777, -0.86224754, -0.85735189])"
            ]
          },
          "metadata": {},
          "execution_count": 283
        }
      ]
    },
    {
      "cell_type": "code",
      "source": [
        "multivar_lstm2 = Sequential([\n",
        "    layers.Input((7, 4)),\n",
        "    layers.LSTM(64),\n",
        "    layers.Dense(32),\n",
        "    layers.Dropout(0.3),\n",
        "    layers.Dense(4, 'linear')\n",
        "], name='multivar_lstm')\n",
        "\n",
        "multivar_lstm2.compile(loss = losses.Huber(),\n",
        "                      optimizer='adam',\n",
        "                      metrics=['mae', 'mse'])\n",
        "\n",
        "history2 = multivar_lstm2.fit(X_train, y_train, epochs=100,\n",
        "                            validation_data=(X_val, y_val))"
      ],
      "metadata": {
        "colab": {
          "base_uri": "https://localhost:8080/"
        },
        "id": "kSMWdp6ekKGK",
        "outputId": "46b2f7b9-5002-496e-dac1-7d4bfca52d46"
      },
      "execution_count": null,
      "outputs": [
        {
          "output_type": "stream",
          "name": "stdout",
          "text": [
            "Epoch 1/100\n",
            "76/76 [==============================] - 3s 11ms/step - loss: 0.0846 - mae: 0.2711 - mse: 0.1838 - val_loss: 0.7713 - val_mae: 1.2275 - val_mse: 2.0212\n",
            "Epoch 2/100\n",
            "76/76 [==============================] - 0s 5ms/step - loss: 0.0237 - mae: 0.1483 - mse: 0.0475 - val_loss: 0.6533 - val_mae: 1.1048 - val_mse: 1.6182\n",
            "Epoch 3/100\n",
            "76/76 [==============================] - 0s 5ms/step - loss: 0.0202 - mae: 0.1371 - mse: 0.0406 - val_loss: 0.4240 - val_mae: 0.8189 - val_mse: 0.9736\n",
            "Epoch 4/100\n",
            "76/76 [==============================] - 0s 5ms/step - loss: 0.0177 - mae: 0.1291 - mse: 0.0354 - val_loss: 0.3961 - val_mae: 0.7995 - val_mse: 0.8822\n",
            "Epoch 5/100\n",
            "76/76 [==============================] - 0s 5ms/step - loss: 0.0172 - mae: 0.1264 - mse: 0.0344 - val_loss: 0.3079 - val_mae: 0.6757 - val_mse: 0.6633\n",
            "Epoch 6/100\n",
            "76/76 [==============================] - 0s 5ms/step - loss: 0.0160 - mae: 0.1215 - mse: 0.0321 - val_loss: 0.2486 - val_mae: 0.5942 - val_mse: 0.5219\n",
            "Epoch 7/100\n",
            "76/76 [==============================] - 0s 4ms/step - loss: 0.0149 - mae: 0.1169 - mse: 0.0298 - val_loss: 0.1763 - val_mae: 0.4634 - val_mse: 0.3623\n",
            "Epoch 8/100\n",
            "76/76 [==============================] - 0s 6ms/step - loss: 0.0135 - mae: 0.1120 - mse: 0.0270 - val_loss: 0.1788 - val_mae: 0.4784 - val_mse: 0.3672\n",
            "Epoch 9/100\n",
            "76/76 [==============================] - 0s 6ms/step - loss: 0.0139 - mae: 0.1139 - mse: 0.0279 - val_loss: 0.1037 - val_mae: 0.3306 - val_mse: 0.2086\n",
            "Epoch 10/100\n",
            "76/76 [==============================] - 0s 6ms/step - loss: 0.0121 - mae: 0.1069 - mse: 0.0241 - val_loss: 0.0742 - val_mae: 0.2658 - val_mse: 0.1489\n",
            "Epoch 11/100\n",
            "76/76 [==============================] - 0s 6ms/step - loss: 0.0118 - mae: 0.1068 - mse: 0.0236 - val_loss: 0.2776 - val_mae: 0.6702 - val_mse: 0.5739\n",
            "Epoch 12/100\n",
            "76/76 [==============================] - 0s 6ms/step - loss: 0.0123 - mae: 0.1067 - mse: 0.0247 - val_loss: 0.2406 - val_mae: 0.6121 - val_mse: 0.4940\n",
            "Epoch 13/100\n",
            "76/76 [==============================] - 0s 6ms/step - loss: 0.0118 - mae: 0.1046 - mse: 0.0236 - val_loss: 0.1269 - val_mae: 0.4000 - val_mse: 0.2553\n",
            "Epoch 14/100\n",
            "76/76 [==============================] - 0s 6ms/step - loss: 0.0111 - mae: 0.1015 - mse: 0.0222 - val_loss: 0.1330 - val_mae: 0.4303 - val_mse: 0.2671\n",
            "Epoch 15/100\n",
            "76/76 [==============================] - 0s 6ms/step - loss: 0.0105 - mae: 0.1004 - mse: 0.0210 - val_loss: 0.0898 - val_mae: 0.3261 - val_mse: 0.1798\n",
            "Epoch 16/100\n",
            "76/76 [==============================] - 0s 5ms/step - loss: 0.0109 - mae: 0.1011 - mse: 0.0219 - val_loss: 0.1735 - val_mae: 0.5010 - val_mse: 0.3505\n",
            "Epoch 17/100\n",
            "76/76 [==============================] - 0s 5ms/step - loss: 0.0106 - mae: 0.0998 - mse: 0.0211 - val_loss: 0.1439 - val_mae: 0.4547 - val_mse: 0.2892\n",
            "Epoch 18/100\n",
            "76/76 [==============================] - 0s 5ms/step - loss: 0.0108 - mae: 0.0990 - mse: 0.0216 - val_loss: 0.0890 - val_mae: 0.3365 - val_mse: 0.1781\n",
            "Epoch 19/100\n",
            "76/76 [==============================] - 0s 4ms/step - loss: 0.0101 - mae: 0.0981 - mse: 0.0203 - val_loss: 0.0591 - val_mae: 0.2591 - val_mse: 0.1182\n",
            "Epoch 20/100\n",
            "76/76 [==============================] - 0s 5ms/step - loss: 0.0100 - mae: 0.0962 - mse: 0.0200 - val_loss: 0.1716 - val_mae: 0.5232 - val_mse: 0.3446\n",
            "Epoch 21/100\n",
            "76/76 [==============================] - 0s 5ms/step - loss: 0.0098 - mae: 0.0958 - mse: 0.0197 - val_loss: 0.0820 - val_mae: 0.3241 - val_mse: 0.1641\n",
            "Epoch 22/100\n",
            "76/76 [==============================] - 0s 6ms/step - loss: 0.0098 - mae: 0.0962 - mse: 0.0196 - val_loss: 0.0932 - val_mae: 0.3624 - val_mse: 0.1864\n",
            "Epoch 23/100\n",
            "76/76 [==============================] - 0s 5ms/step - loss: 0.0101 - mae: 0.0967 - mse: 0.0201 - val_loss: 0.0294 - val_mae: 0.1694 - val_mse: 0.0588\n",
            "Epoch 24/100\n",
            "76/76 [==============================] - 0s 4ms/step - loss: 0.0097 - mae: 0.0945 - mse: 0.0194 - val_loss: 0.0843 - val_mae: 0.3394 - val_mse: 0.1686\n",
            "Epoch 25/100\n",
            "76/76 [==============================] - 0s 5ms/step - loss: 0.0092 - mae: 0.0923 - mse: 0.0185 - val_loss: 0.1337 - val_mae: 0.4484 - val_mse: 0.2678\n",
            "Epoch 26/100\n",
            "76/76 [==============================] - 0s 5ms/step - loss: 0.0092 - mae: 0.0926 - mse: 0.0183 - val_loss: 0.0764 - val_mae: 0.3227 - val_mse: 0.1528\n",
            "Epoch 27/100\n",
            "76/76 [==============================] - 0s 4ms/step - loss: 0.0100 - mae: 0.0942 - mse: 0.0201 - val_loss: 0.0570 - val_mae: 0.2743 - val_mse: 0.1139\n",
            "Epoch 28/100\n",
            "76/76 [==============================] - 0s 5ms/step - loss: 0.0089 - mae: 0.0909 - mse: 0.0179 - val_loss: 0.0242 - val_mae: 0.1656 - val_mse: 0.0484\n",
            "Epoch 29/100\n",
            "76/76 [==============================] - 0s 5ms/step - loss: 0.0100 - mae: 0.0950 - mse: 0.0200 - val_loss: 0.0253 - val_mae: 0.1610 - val_mse: 0.0505\n",
            "Epoch 30/100\n",
            "76/76 [==============================] - 0s 5ms/step - loss: 0.0092 - mae: 0.0934 - mse: 0.0184 - val_loss: 0.0498 - val_mae: 0.2482 - val_mse: 0.0996\n",
            "Epoch 31/100\n",
            "76/76 [==============================] - 0s 5ms/step - loss: 0.0084 - mae: 0.0888 - mse: 0.0168 - val_loss: 0.1169 - val_mae: 0.4180 - val_mse: 0.2339\n",
            "Epoch 32/100\n",
            "76/76 [==============================] - 0s 5ms/step - loss: 0.0091 - mae: 0.0933 - mse: 0.0182 - val_loss: 0.0680 - val_mae: 0.3003 - val_mse: 0.1360\n",
            "Epoch 33/100\n",
            "76/76 [==============================] - 0s 5ms/step - loss: 0.0086 - mae: 0.0892 - mse: 0.0173 - val_loss: 0.0231 - val_mae: 0.1543 - val_mse: 0.0462\n",
            "Epoch 34/100\n",
            "76/76 [==============================] - 0s 5ms/step - loss: 0.0093 - mae: 0.0926 - mse: 0.0186 - val_loss: 0.0401 - val_mae: 0.2259 - val_mse: 0.0803\n",
            "Epoch 35/100\n",
            "76/76 [==============================] - 0s 6ms/step - loss: 0.0086 - mae: 0.0898 - mse: 0.0172 - val_loss: 0.0487 - val_mae: 0.2549 - val_mse: 0.0973\n",
            "Epoch 36/100\n",
            "76/76 [==============================] - 0s 5ms/step - loss: 0.0088 - mae: 0.0906 - mse: 0.0177 - val_loss: 0.0337 - val_mae: 0.2053 - val_mse: 0.0675\n",
            "Epoch 37/100\n",
            "76/76 [==============================] - 0s 5ms/step - loss: 0.0094 - mae: 0.0919 - mse: 0.0188 - val_loss: 0.0682 - val_mae: 0.3129 - val_mse: 0.1364\n",
            "Epoch 38/100\n",
            "76/76 [==============================] - 1s 7ms/step - loss: 0.0077 - mae: 0.0867 - mse: 0.0154 - val_loss: 0.0350 - val_mae: 0.2061 - val_mse: 0.0699\n",
            "Epoch 39/100\n",
            "76/76 [==============================] - 0s 5ms/step - loss: 0.0088 - mae: 0.0907 - mse: 0.0176 - val_loss: 0.0406 - val_mae: 0.2316 - val_mse: 0.0812\n",
            "Epoch 40/100\n",
            "76/76 [==============================] - 0s 6ms/step - loss: 0.0087 - mae: 0.0907 - mse: 0.0174 - val_loss: 0.1062 - val_mae: 0.4075 - val_mse: 0.2124\n",
            "Epoch 41/100\n",
            "76/76 [==============================] - 0s 7ms/step - loss: 0.0089 - mae: 0.0903 - mse: 0.0177 - val_loss: 0.1032 - val_mae: 0.3972 - val_mse: 0.2064\n",
            "Epoch 42/100\n",
            "76/76 [==============================] - 0s 6ms/step - loss: 0.0089 - mae: 0.0897 - mse: 0.0177 - val_loss: 0.0607 - val_mae: 0.2909 - val_mse: 0.1214\n",
            "Epoch 43/100\n",
            "76/76 [==============================] - 0s 6ms/step - loss: 0.0092 - mae: 0.0918 - mse: 0.0184 - val_loss: 0.0568 - val_mae: 0.2785 - val_mse: 0.1136\n",
            "Epoch 44/100\n",
            "76/76 [==============================] - 0s 6ms/step - loss: 0.0080 - mae: 0.0867 - mse: 0.0160 - val_loss: 0.0726 - val_mae: 0.3340 - val_mse: 0.1452\n",
            "Epoch 45/100\n",
            "76/76 [==============================] - 0s 6ms/step - loss: 0.0084 - mae: 0.0886 - mse: 0.0169 - val_loss: 0.0670 - val_mae: 0.3177 - val_mse: 0.1341\n",
            "Epoch 46/100\n",
            "76/76 [==============================] - 0s 5ms/step - loss: 0.0089 - mae: 0.0918 - mse: 0.0178 - val_loss: 0.0391 - val_mae: 0.2324 - val_mse: 0.0782\n",
            "Epoch 47/100\n",
            "76/76 [==============================] - 0s 5ms/step - loss: 0.0077 - mae: 0.0864 - mse: 0.0154 - val_loss: 0.0611 - val_mae: 0.3067 - val_mse: 0.1222\n",
            "Epoch 48/100\n",
            "76/76 [==============================] - 0s 6ms/step - loss: 0.0082 - mae: 0.0889 - mse: 0.0164 - val_loss: 0.0781 - val_mae: 0.3485 - val_mse: 0.1562\n",
            "Epoch 49/100\n",
            "76/76 [==============================] - 0s 5ms/step - loss: 0.0088 - mae: 0.0905 - mse: 0.0175 - val_loss: 0.0389 - val_mae: 0.2315 - val_mse: 0.0779\n",
            "Epoch 50/100\n",
            "76/76 [==============================] - 0s 5ms/step - loss: 0.0085 - mae: 0.0895 - mse: 0.0171 - val_loss: 0.0226 - val_mae: 0.1622 - val_mse: 0.0452\n",
            "Epoch 51/100\n",
            "76/76 [==============================] - 0s 5ms/step - loss: 0.0080 - mae: 0.0877 - mse: 0.0159 - val_loss: 0.0723 - val_mae: 0.3342 - val_mse: 0.1446\n",
            "Epoch 52/100\n",
            "76/76 [==============================] - 0s 5ms/step - loss: 0.0084 - mae: 0.0884 - mse: 0.0169 - val_loss: 0.0625 - val_mae: 0.3082 - val_mse: 0.1249\n",
            "Epoch 53/100\n",
            "76/76 [==============================] - 0s 5ms/step - loss: 0.0080 - mae: 0.0882 - mse: 0.0160 - val_loss: 0.0338 - val_mae: 0.2037 - val_mse: 0.0677\n",
            "Epoch 54/100\n",
            "76/76 [==============================] - 0s 5ms/step - loss: 0.0081 - mae: 0.0879 - mse: 0.0162 - val_loss: 0.0646 - val_mae: 0.3095 - val_mse: 0.1292\n",
            "Epoch 55/100\n",
            "76/76 [==============================] - 0s 6ms/step - loss: 0.0086 - mae: 0.0892 - mse: 0.0171 - val_loss: 0.0342 - val_mae: 0.2110 - val_mse: 0.0684\n",
            "Epoch 56/100\n",
            "76/76 [==============================] - 0s 5ms/step - loss: 0.0086 - mae: 0.0892 - mse: 0.0172 - val_loss: 0.0842 - val_mae: 0.3644 - val_mse: 0.1684\n",
            "Epoch 57/100\n",
            "76/76 [==============================] - 0s 5ms/step - loss: 0.0085 - mae: 0.0897 - mse: 0.0171 - val_loss: 0.0539 - val_mae: 0.2785 - val_mse: 0.1078\n",
            "Epoch 58/100\n",
            "76/76 [==============================] - 0s 6ms/step - loss: 0.0077 - mae: 0.0842 - mse: 0.0153 - val_loss: 0.0769 - val_mae: 0.3432 - val_mse: 0.1539\n",
            "Epoch 59/100\n",
            "76/76 [==============================] - 0s 5ms/step - loss: 0.0076 - mae: 0.0851 - mse: 0.0152 - val_loss: 0.0602 - val_mae: 0.2965 - val_mse: 0.1204\n",
            "Epoch 60/100\n",
            "76/76 [==============================] - 0s 5ms/step - loss: 0.0083 - mae: 0.0884 - mse: 0.0166 - val_loss: 0.0675 - val_mae: 0.3149 - val_mse: 0.1350\n",
            "Epoch 61/100\n",
            "76/76 [==============================] - 0s 4ms/step - loss: 0.0076 - mae: 0.0854 - mse: 0.0151 - val_loss: 0.1043 - val_mae: 0.4057 - val_mse: 0.2086\n",
            "Epoch 62/100\n",
            "76/76 [==============================] - 0s 5ms/step - loss: 0.0085 - mae: 0.0875 - mse: 0.0169 - val_loss: 0.0260 - val_mae: 0.1766 - val_mse: 0.0521\n",
            "Epoch 63/100\n",
            "76/76 [==============================] - 0s 5ms/step - loss: 0.0078 - mae: 0.0865 - mse: 0.0156 - val_loss: 0.0213 - val_mae: 0.1588 - val_mse: 0.0425\n",
            "Epoch 64/100\n",
            "76/76 [==============================] - 0s 6ms/step - loss: 0.0084 - mae: 0.0887 - mse: 0.0167 - val_loss: 0.0584 - val_mae: 0.2927 - val_mse: 0.1167\n",
            "Epoch 65/100\n",
            "76/76 [==============================] - 0s 5ms/step - loss: 0.0088 - mae: 0.0880 - mse: 0.0176 - val_loss: 0.1042 - val_mae: 0.4143 - val_mse: 0.2083\n",
            "Epoch 66/100\n",
            "76/76 [==============================] - 0s 6ms/step - loss: 0.0085 - mae: 0.0880 - mse: 0.0169 - val_loss: 0.0348 - val_mae: 0.2096 - val_mse: 0.0696\n",
            "Epoch 67/100\n",
            "76/76 [==============================] - 0s 5ms/step - loss: 0.0086 - mae: 0.0888 - mse: 0.0172 - val_loss: 0.1062 - val_mae: 0.4172 - val_mse: 0.2123\n",
            "Epoch 68/100\n",
            "76/76 [==============================] - 0s 5ms/step - loss: 0.0084 - mae: 0.0888 - mse: 0.0167 - val_loss: 0.0368 - val_mae: 0.2196 - val_mse: 0.0735\n",
            "Epoch 69/100\n",
            "76/76 [==============================] - 0s 5ms/step - loss: 0.0081 - mae: 0.0855 - mse: 0.0161 - val_loss: 0.0317 - val_mae: 0.2063 - val_mse: 0.0635\n",
            "Epoch 70/100\n",
            "76/76 [==============================] - 0s 6ms/step - loss: 0.0081 - mae: 0.0866 - mse: 0.0162 - val_loss: 0.1070 - val_mae: 0.4129 - val_mse: 0.2140\n",
            "Epoch 71/100\n",
            "76/76 [==============================] - 1s 7ms/step - loss: 0.0078 - mae: 0.0852 - mse: 0.0157 - val_loss: 0.1418 - val_mae: 0.4744 - val_mse: 0.2838\n",
            "Epoch 72/100\n",
            "76/76 [==============================] - 0s 6ms/step - loss: 0.0079 - mae: 0.0853 - mse: 0.0159 - val_loss: 0.0473 - val_mae: 0.2467 - val_mse: 0.0946\n",
            "Epoch 73/100\n",
            "76/76 [==============================] - 0s 6ms/step - loss: 0.0083 - mae: 0.0886 - mse: 0.0166 - val_loss: 0.0525 - val_mae: 0.2719 - val_mse: 0.1051\n",
            "Epoch 74/100\n",
            "76/76 [==============================] - 0s 6ms/step - loss: 0.0085 - mae: 0.0886 - mse: 0.0170 - val_loss: 0.0135 - val_mae: 0.1178 - val_mse: 0.0270\n",
            "Epoch 75/100\n",
            "76/76 [==============================] - 0s 5ms/step - loss: 0.0087 - mae: 0.0886 - mse: 0.0173 - val_loss: 0.1183 - val_mae: 0.4327 - val_mse: 0.2367\n",
            "Epoch 76/100\n",
            "76/76 [==============================] - 0s 5ms/step - loss: 0.0082 - mae: 0.0861 - mse: 0.0163 - val_loss: 0.0684 - val_mae: 0.3146 - val_mse: 0.1368\n",
            "Epoch 77/100\n",
            "76/76 [==============================] - 0s 5ms/step - loss: 0.0080 - mae: 0.0858 - mse: 0.0160 - val_loss: 0.0309 - val_mae: 0.1911 - val_mse: 0.0619\n",
            "Epoch 78/100\n",
            "76/76 [==============================] - 0s 5ms/step - loss: 0.0083 - mae: 0.0871 - mse: 0.0166 - val_loss: 0.1322 - val_mae: 0.4569 - val_mse: 0.2644\n",
            "Epoch 79/100\n",
            "76/76 [==============================] - 0s 5ms/step - loss: 0.0086 - mae: 0.0896 - mse: 0.0172 - val_loss: 0.0314 - val_mae: 0.1917 - val_mse: 0.0628\n",
            "Epoch 80/100\n",
            "76/76 [==============================] - 0s 6ms/step - loss: 0.0081 - mae: 0.0875 - mse: 0.0162 - val_loss: 0.0947 - val_mae: 0.3764 - val_mse: 0.1895\n",
            "Epoch 81/100\n",
            "76/76 [==============================] - 0s 5ms/step - loss: 0.0085 - mae: 0.0882 - mse: 0.0171 - val_loss: 0.0425 - val_mae: 0.2380 - val_mse: 0.0850\n",
            "Epoch 82/100\n",
            "76/76 [==============================] - 0s 5ms/step - loss: 0.0082 - mae: 0.0866 - mse: 0.0163 - val_loss: 0.0688 - val_mae: 0.3139 - val_mse: 0.1376\n",
            "Epoch 83/100\n",
            "76/76 [==============================] - 0s 5ms/step - loss: 0.0090 - mae: 0.0905 - mse: 0.0181 - val_loss: 0.0771 - val_mae: 0.3273 - val_mse: 0.1542\n",
            "Epoch 84/100\n",
            "76/76 [==============================] - 0s 5ms/step - loss: 0.0086 - mae: 0.0898 - mse: 0.0173 - val_loss: 0.0740 - val_mae: 0.3217 - val_mse: 0.1481\n",
            "Epoch 85/100\n",
            "76/76 [==============================] - 0s 5ms/step - loss: 0.0082 - mae: 0.0866 - mse: 0.0165 - val_loss: 0.0633 - val_mae: 0.3035 - val_mse: 0.1267\n",
            "Epoch 86/100\n",
            "76/76 [==============================] - 0s 5ms/step - loss: 0.0084 - mae: 0.0888 - mse: 0.0169 - val_loss: 0.0909 - val_mae: 0.3678 - val_mse: 0.1818\n",
            "Epoch 87/100\n",
            "76/76 [==============================] - 0s 5ms/step - loss: 0.0091 - mae: 0.0907 - mse: 0.0181 - val_loss: 0.0575 - val_mae: 0.2778 - val_mse: 0.1150\n",
            "Epoch 88/100\n",
            "76/76 [==============================] - 0s 5ms/step - loss: 0.0087 - mae: 0.0877 - mse: 0.0174 - val_loss: 0.0573 - val_mae: 0.2742 - val_mse: 0.1145\n",
            "Epoch 89/100\n",
            "76/76 [==============================] - 0s 5ms/step - loss: 0.0081 - mae: 0.0876 - mse: 0.0161 - val_loss: 0.0555 - val_mae: 0.2754 - val_mse: 0.1110\n",
            "Epoch 90/100\n",
            "76/76 [==============================] - 0s 5ms/step - loss: 0.0090 - mae: 0.0887 - mse: 0.0180 - val_loss: 0.0220 - val_mae: 0.1507 - val_mse: 0.0441\n",
            "Epoch 91/100\n",
            "76/76 [==============================] - 0s 5ms/step - loss: 0.0078 - mae: 0.0857 - mse: 0.0157 - val_loss: 0.0446 - val_mae: 0.2398 - val_mse: 0.0891\n",
            "Epoch 92/100\n",
            "76/76 [==============================] - 0s 5ms/step - loss: 0.0078 - mae: 0.0861 - mse: 0.0155 - val_loss: 0.0665 - val_mae: 0.3015 - val_mse: 0.1331\n",
            "Epoch 93/100\n",
            "76/76 [==============================] - 0s 5ms/step - loss: 0.0094 - mae: 0.0914 - mse: 0.0188 - val_loss: 0.1540 - val_mae: 0.4994 - val_mse: 0.3084\n",
            "Epoch 94/100\n",
            "76/76 [==============================] - 0s 5ms/step - loss: 0.0087 - mae: 0.0899 - mse: 0.0175 - val_loss: 0.0474 - val_mae: 0.2311 - val_mse: 0.0948\n",
            "Epoch 95/100\n",
            "76/76 [==============================] - 0s 5ms/step - loss: 0.0086 - mae: 0.0886 - mse: 0.0173 - val_loss: 0.0463 - val_mae: 0.2287 - val_mse: 0.0925\n",
            "Epoch 96/100\n",
            "76/76 [==============================] - 0s 6ms/step - loss: 0.0085 - mae: 0.0884 - mse: 0.0169 - val_loss: 0.0404 - val_mae: 0.2311 - val_mse: 0.0808\n",
            "Epoch 97/100\n",
            "76/76 [==============================] - 0s 5ms/step - loss: 0.0082 - mae: 0.0875 - mse: 0.0164 - val_loss: 0.1014 - val_mae: 0.3959 - val_mse: 0.2029\n",
            "Epoch 98/100\n",
            "76/76 [==============================] - 0s 5ms/step - loss: 0.0081 - mae: 0.0870 - mse: 0.0163 - val_loss: 0.0681 - val_mae: 0.3074 - val_mse: 0.1362\n",
            "Epoch 99/100\n",
            "76/76 [==============================] - 1s 7ms/step - loss: 0.0081 - mae: 0.0883 - mse: 0.0162 - val_loss: 0.0254 - val_mae: 0.1611 - val_mse: 0.0508\n",
            "Epoch 100/100\n",
            "76/76 [==============================] - 1s 7ms/step - loss: 0.0078 - mae: 0.0860 - mse: 0.0156 - val_loss: 0.0342 - val_mae: 0.1878 - val_mse: 0.0683\n"
          ]
        }
      ]
    },
    {
      "cell_type": "code",
      "source": [
        "y_val = (y_val * close_std) + close_mean"
      ],
      "metadata": {
        "id": "2H1l3d6kpbWx"
      },
      "execution_count": null,
      "outputs": []
    },
    {
      "cell_type": "code",
      "source": [
        "# Post process, predict, and plot\n",
        "preds = multivar_lstm2.predict(X_val)\n",
        "preds = (preds * close_std) + close_mean\n",
        "\n",
        "plt.plot(y_val)\n",
        "plt.plot(preds)\n",
        "plt.xlabel(\"Time\")\n",
        "plt.ylabel(\"Price\")\n",
        "plt.legend([\"Actual\"])\n",
        "plt.show();"
      ],
      "metadata": {
        "colab": {
          "base_uri": "https://localhost:8080/",
          "height": 466
        },
        "id": "g81pegWjkzM0",
        "outputId": "784f42b2-b003-47d2-f346-bd6e992b39ed"
      },
      "execution_count": null,
      "outputs": [
        {
          "output_type": "stream",
          "name": "stdout",
          "text": [
            "19/19 [==============================] - 0s 3ms/step\n"
          ]
        },
        {
          "output_type": "display_data",
          "data": {
            "text/plain": [
              "<Figure size 640x480 with 1 Axes>"
            ],
            "image/png": "[encoded data removed]"
          },
          "metadata": {}
        }
      ]
    }
  ]
}