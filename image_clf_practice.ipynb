{
  "nbformat": 4,
  "nbformat_minor": 0,
  "metadata": {
    "colab": {
      "provenance": []
    },
    "kernelspec": {
      "name": "python3",
      "display_name": "Python 3"
    },
    "language_info": {
      "name": "python"
    }
  },
  "cells": [
    {
      "cell_type": "markdown",
      "source": [
        "# Multi-Class Image Classification Practice w/ Intel Images Dataset from Kaggle"
      ],
      "metadata": {
        "id": "f8w12-NwmFrQ"
      }
    },
    {
      "cell_type": "code",
      "source": [
        "from google.colab import drive\n",
        "drive.mount('/content/drive')"
      ],
      "metadata": {
        "colab": {
          "base_uri": "https://localhost:8080/"
        },
        "id": "y1WXiI3Dn1WQ",
        "outputId": "fa024c51-0913-4962-acd9-054822eba281"
      },
      "execution_count": null,
      "outputs": [
        {
          "output_type": "stream",
          "name": "stdout",
          "text": [
            "Mounted at /content/drive\n"
          ]
        }
      ]
    },
    {
      "cell_type": "code",
      "source": [
        "import tensorflow_datasets as tfds\n",
        "import tensorflow as tf\n",
        "\n",
        "import pandas as pd\n",
        "import numpy as np\n",
        "import matplotlib.pyplot as plt\n",
        "\n",
        "from tensorflow.keras import layers, losses, optimizers, callbacks"
      ],
      "metadata": {
        "id": "5tL90Amqn30W"
      },
      "execution_count": 1,
      "outputs": []
    },
    {
      "cell_type": "code",
      "source": [
        "(X_train, y_train), (X_test, y_test) = tf.keras.datasets.mnist.load_data()"
      ],
      "metadata": {
        "id": "vRwbiSslr_f0"
      },
      "execution_count": 12,
      "outputs": []
    },
    {
      "cell_type": "code",
      "source": [
        "len(X_train), len(y_train), len(X_test), len(y_test)"
      ],
      "metadata": {
        "colab": {
          "base_uri": "https://localhost:8080/"
        },
        "id": "wdGedE5ntpNe",
        "outputId": "cb95c25e-3473-4cf5-b1fd-6a8c4d0a8a65"
      },
      "execution_count": 13,
      "outputs": [
        {
          "output_type": "execute_result",
          "data": {
            "text/plain": [
              "(60000, 60000, 10000, 10000)"
            ]
          },
          "metadata": {},
          "execution_count": 13
        }
      ]
    },
    {
      "cell_type": "code",
      "source": [
        "X_train[0].shape"
      ],
      "metadata": {
        "colab": {
          "base_uri": "https://localhost:8080/"
        },
        "id": "Hd3fNHUWtwVU",
        "outputId": "5da75369-af92-40bc-8066-5c449dca4db5"
      },
      "execution_count": 14,
      "outputs": [
        {
          "output_type": "execute_result",
          "data": {
            "text/plain": [
              "(28, 28)"
            ]
          },
          "metadata": {},
          "execution_count": 14
        }
      ]
    },
    {
      "cell_type": "code",
      "source": [
        "labels = list(np.unique(y_train))\n",
        "print(labels)"
      ],
      "metadata": {
        "colab": {
          "base_uri": "https://localhost:8080/"
        },
        "id": "Qx9mMWsRukgr",
        "outputId": "1be0b4c5-5b4b-48d5-91ae-2e8095e4fd97"
      },
      "execution_count": 15,
      "outputs": [
        {
          "output_type": "stream",
          "name": "stdout",
          "text": [
            "[0, 1, 2, 3, 4, 5, 6, 7, 8, 9]\n"
          ]
        }
      ]
    },
    {
      "cell_type": "code",
      "source": [
        "split_value = int(0.8 * len(X_train))\n",
        "\n",
        "X_train_split = X_train[:split_value]\n",
        "y_train_split = y_train[:split_value]\n",
        "\n",
        "X_val_split = X_train[split_value:]\n",
        "y_val_split = y_train[split_value:]"
      ],
      "metadata": {
        "id": "7YWwe86lvtl1"
      },
      "execution_count": 16,
      "outputs": []
    },
    {
      "cell_type": "code",
      "source": [
        "len(X_train_split), len(y_train_split), len(X_val_split), len(y_val_split)"
      ],
      "metadata": {
        "colab": {
          "base_uri": "https://localhost:8080/"
        },
        "id": "3ZSwm0o4whyS",
        "outputId": "24ffc1df-6ce5-4e91-d16d-4b365a8a6e46"
      },
      "execution_count": 17,
      "outputs": [
        {
          "output_type": "execute_result",
          "data": {
            "text/plain": [
              "(48000, 48000, 12000, 12000)"
            ]
          },
          "metadata": {},
          "execution_count": 17
        }
      ]
    },
    {
      "cell_type": "code",
      "source": [
        "datagen = tf.keras.preprocessing.image.ImageDataGenerator(\n",
        "    rotation_range=10,\n",
        "    width_shift_range=0.1,\n",
        "    height_shift_range=0.1,\n",
        "    shear_range=0.1,\n",
        "    zoom_range=0.1,\n",
        "    horizontal_flip=True,\n",
        "    vertical_flip=False,\n",
        "    fill_mode='nearest')"
      ],
      "metadata": {
        "id": "Bi-IE_E-w8qR"
      },
      "execution_count": 18,
      "outputs": []
    },
    {
      "cell_type": "code",
      "source": [
        "X_train_split / 255.0\n",
        "X_val_split / 255.0"
      ],
      "metadata": {
        "colab": {
          "base_uri": "https://localhost:8080/"
        },
        "id": "H6_C_1uRxp6n",
        "outputId": "b4b0fdf4-a45e-4c2e-9769-7d15443d391d"
      },
      "execution_count": 20,
      "outputs": [
        {
          "output_type": "execute_result",
          "data": {
            "text/plain": [
              "array([[[0., 0., 0., ..., 0., 0., 0.],\n",
              "        [0., 0., 0., ..., 0., 0., 0.],\n",
              "        [0., 0., 0., ..., 0., 0., 0.],\n",
              "        ...,\n",
              "        [0., 0., 0., ..., 0., 0., 0.],\n",
              "        [0., 0., 0., ..., 0., 0., 0.],\n",
              "        [0., 0., 0., ..., 0., 0., 0.]],\n",
              "\n",
              "       [[0., 0., 0., ..., 0., 0., 0.],\n",
              "        [0., 0., 0., ..., 0., 0., 0.],\n",
              "        [0., 0., 0., ..., 0., 0., 0.],\n",
              "        ...,\n",
              "        [0., 0., 0., ..., 0., 0., 0.],\n",
              "        [0., 0., 0., ..., 0., 0., 0.],\n",
              "        [0., 0., 0., ..., 0., 0., 0.]],\n",
              "\n",
              "       [[0., 0., 0., ..., 0., 0., 0.],\n",
              "        [0., 0., 0., ..., 0., 0., 0.],\n",
              "        [0., 0., 0., ..., 0., 0., 0.],\n",
              "        ...,\n",
              "        [0., 0., 0., ..., 0., 0., 0.],\n",
              "        [0., 0., 0., ..., 0., 0., 0.],\n",
              "        [0., 0., 0., ..., 0., 0., 0.]],\n",
              "\n",
              "       ...,\n",
              "\n",
              "       [[0., 0., 0., ..., 0., 0., 0.],\n",
              "        [0., 0., 0., ..., 0., 0., 0.],\n",
              "        [0., 0., 0., ..., 0., 0., 0.],\n",
              "        ...,\n",
              "        [0., 0., 0., ..., 0., 0., 0.],\n",
              "        [0., 0., 0., ..., 0., 0., 0.],\n",
              "        [0., 0., 0., ..., 0., 0., 0.]],\n",
              "\n",
              "       [[0., 0., 0., ..., 0., 0., 0.],\n",
              "        [0., 0., 0., ..., 0., 0., 0.],\n",
              "        [0., 0., 0., ..., 0., 0., 0.],\n",
              "        ...,\n",
              "        [0., 0., 0., ..., 0., 0., 0.],\n",
              "        [0., 0., 0., ..., 0., 0., 0.],\n",
              "        [0., 0., 0., ..., 0., 0., 0.]],\n",
              "\n",
              "       [[0., 0., 0., ..., 0., 0., 0.],\n",
              "        [0., 0., 0., ..., 0., 0., 0.],\n",
              "        [0., 0., 0., ..., 0., 0., 0.],\n",
              "        ...,\n",
              "        [0., 0., 0., ..., 0., 0., 0.],\n",
              "        [0., 0., 0., ..., 0., 0., 0.],\n",
              "        [0., 0., 0., ..., 0., 0., 0.]]])"
            ]
          },
          "metadata": {},
          "execution_count": 20
        }
      ]
    },
    {
      "cell_type": "code",
      "source": [
        "X_train_split.shape\n",
        "X_val_split.shape"
      ],
      "metadata": {
        "colab": {
          "base_uri": "https://localhost:8080/"
        },
        "id": "ZjJq3DGvyarr",
        "outputId": "74027a5b-50e2-4512-c646-573620d2aa48"
      },
      "execution_count": 21,
      "outputs": [
        {
          "output_type": "execute_result",
          "data": {
            "text/plain": [
              "(12000, 28, 28)"
            ]
          },
          "metadata": {},
          "execution_count": 21
        }
      ]
    },
    {
      "cell_type": "code",
      "source": [
        "dense = tf.keras.Sequential([\n",
        "    layers.Flatten(input_shape=(28, 28)),\n",
        "    layers.Dense(128, 'relu'),\n",
        "    layers.Dropout(0.5),\n",
        "    layers.Dense(64, 'relu'),\n",
        "    layers.Dropout(0.3),\n",
        "    layers.Dense(32, 'relu'),\n",
        "    layers.Dense(len(labels), 'softmax')\n",
        "], name='dense')\n",
        "\n",
        "dense.compile(loss=losses.SparseCategoricalCrossentropy(),\n",
        "              optimizer='adam',\n",
        "              metrics=['accuracy'])\n",
        "\n",
        "dense.fit(X_train_split, y_train_split, epochs=20, \n",
        "          validation_data=(X_val_split, y_val_split))"
      ],
      "metadata": {
        "colab": {
          "base_uri": "https://localhost:8080/"
        },
        "id": "vad3fADMyC0Y",
        "outputId": "1059ea33-7279-4dec-a3a3-bb7df6a2b1c0"
      },
      "execution_count": 31,
      "outputs": [
        {
          "output_type": "stream",
          "name": "stdout",
          "text": [
            "Epoch 1/20\n",
            "1500/1500 [==============================] - 11s 6ms/step - loss: 3.3895 - accuracy: 0.2807 - val_loss: 1.4969 - val_accuracy: 0.4389\n",
            "Epoch 2/20\n",
            "1500/1500 [==============================] - 9s 6ms/step - loss: 1.6999 - accuracy: 0.3648 - val_loss: 1.2661 - val_accuracy: 0.5190\n",
            "Epoch 3/20\n",
            "1500/1500 [==============================] - 10s 7ms/step - loss: 1.5299 - accuracy: 0.4280 - val_loss: 1.0830 - val_accuracy: 0.6263\n",
            "Epoch 4/20\n",
            "1500/1500 [==============================] - 9s 6ms/step - loss: 1.3583 - accuracy: 0.4999 - val_loss: 0.8757 - val_accuracy: 0.7630\n",
            "Epoch 5/20\n",
            "1500/1500 [==============================] - 9s 6ms/step - loss: 1.1854 - accuracy: 0.5704 - val_loss: 0.6680 - val_accuracy: 0.8334\n",
            "Epoch 6/20\n",
            "1500/1500 [==============================] - 10s 6ms/step - loss: 1.0107 - accuracy: 0.6322 - val_loss: 0.5258 - val_accuracy: 0.8829\n",
            "Epoch 7/20\n",
            "1500/1500 [==============================] - 8s 6ms/step - loss: 0.8835 - accuracy: 0.7002 - val_loss: 0.4543 - val_accuracy: 0.8838\n",
            "Epoch 8/20\n",
            "1500/1500 [==============================] - 9s 6ms/step - loss: 0.8151 - accuracy: 0.7313 - val_loss: 0.4739 - val_accuracy: 0.8772\n",
            "Epoch 9/20\n",
            "1500/1500 [==============================] - 9s 6ms/step - loss: 0.7505 - accuracy: 0.7557 - val_loss: 0.4083 - val_accuracy: 0.8993\n",
            "Epoch 10/20\n",
            "1500/1500 [==============================] - 7s 5ms/step - loss: 0.7019 - accuracy: 0.7732 - val_loss: 0.3943 - val_accuracy: 0.9017\n",
            "Epoch 11/20\n",
            "1500/1500 [==============================] - 9s 6ms/step - loss: 0.6941 - accuracy: 0.7761 - val_loss: 0.3993 - val_accuracy: 0.8932\n",
            "Epoch 12/20\n",
            "1500/1500 [==============================] - 8s 5ms/step - loss: 0.6798 - accuracy: 0.7816 - val_loss: 0.3990 - val_accuracy: 0.9003\n",
            "Epoch 13/20\n",
            "1500/1500 [==============================] - 9s 6ms/step - loss: 0.6738 - accuracy: 0.7834 - val_loss: 0.3791 - val_accuracy: 0.9073\n",
            "Epoch 14/20\n",
            "1500/1500 [==============================] - 9s 6ms/step - loss: 0.6515 - accuracy: 0.7906 - val_loss: 0.3783 - val_accuracy: 0.9094\n",
            "Epoch 15/20\n",
            "1500/1500 [==============================] - 8s 5ms/step - loss: 0.6334 - accuracy: 0.7959 - val_loss: 0.3315 - val_accuracy: 0.9133\n",
            "Epoch 16/20\n",
            "1500/1500 [==============================] - 9s 6ms/step - loss: 0.6204 - accuracy: 0.8009 - val_loss: 0.3435 - val_accuracy: 0.9155\n",
            "Epoch 17/20\n",
            "1500/1500 [==============================] - 8s 5ms/step - loss: 0.6039 - accuracy: 0.8079 - val_loss: 0.3086 - val_accuracy: 0.9222\n",
            "Epoch 18/20\n",
            "1500/1500 [==============================] - 9s 6ms/step - loss: 0.5857 - accuracy: 0.8145 - val_loss: 0.3126 - val_accuracy: 0.9193\n",
            "Epoch 19/20\n",
            "1500/1500 [==============================] - 10s 7ms/step - loss: 0.5828 - accuracy: 0.8157 - val_loss: 0.3422 - val_accuracy: 0.9090\n",
            "Epoch 20/20\n",
            "1500/1500 [==============================] - 8s 5ms/step - loss: 0.5770 - accuracy: 0.8169 - val_loss: 0.3373 - val_accuracy: 0.9084\n"
          ]
        },
        {
          "output_type": "execute_result",
          "data": {
            "text/plain": [
              "<keras.callbacks.History at 0x7febcbd1f370>"
            ]
          },
          "metadata": {},
          "execution_count": 31
        }
      ]
    },
    {
      "cell_type": "code",
      "source": [
        "y_pred = dense.predict(X_test)"
      ],
      "metadata": {
        "colab": {
          "base_uri": "https://localhost:8080/"
        },
        "id": "ljln-Tzi12V0",
        "outputId": "942ce58a-4bbc-47de-efe4-716d7d4bb10e"
      },
      "execution_count": 32,
      "outputs": [
        {
          "output_type": "stream",
          "name": "stdout",
          "text": [
            "313/313 [==============================] - 1s 2ms/step\n"
          ]
        }
      ]
    },
    {
      "cell_type": "code",
      "source": [
        "y_pred.shape"
      ],
      "metadata": {
        "colab": {
          "base_uri": "https://localhost:8080/"
        },
        "id": "lYJnTBNr2Q_P",
        "outputId": "065444dc-0940-4f15-f5f3-f5ee198e1f40"
      },
      "execution_count": 33,
      "outputs": [
        {
          "output_type": "execute_result",
          "data": {
            "text/plain": [
              "(10000, 10)"
            ]
          },
          "metadata": {},
          "execution_count": 33
        }
      ]
    },
    {
      "cell_type": "code",
      "source": [
        "test_loss, test_acc = dense.evaluate(X_test, y_test)\n",
        "print(f'Test accuracy: {test_acc}')"
      ],
      "metadata": {
        "colab": {
          "base_uri": "https://localhost:8080/"
        },
        "id": "ODD7vGQF2TAh",
        "outputId": "e57bd024-9319-4859-8fcd-346f8f26cb67"
      },
      "execution_count": 35,
      "outputs": [
        {
          "output_type": "stream",
          "name": "stdout",
          "text": [
            "313/313 [==============================] - 1s 2ms/step - loss: 0.3548 - accuracy: 0.9012\n",
            "Test accuracy: 0.901199996471405\n"
          ]
        }
      ]
    },
    {
      "cell_type": "markdown",
      "source": [
        "Let's do one more architecture to blow our attempt out of the water using the LeNet architecture..."
      ],
      "metadata": {
        "id": "p7ZedqZp61rT"
      }
    },
    {
      "cell_type": "code",
      "source": [
        "# Try with LeNet architecture (trained on grayscale images)\n",
        "def build_lenet(input_shape=(28, 28, 1), num_classes=10):\n",
        "    # Define the model\n",
        "    model = tf.keras.Sequential([\n",
        "        layers.Conv2D(6, kernel_size=(5, 5), activation='relu', input_shape=input_shape),\n",
        "        layers.MaxPooling2D(pool_size=(2, 2)),\n",
        "        layers.Conv2D(16, kernel_size=(5, 5), activation='relu'),\n",
        "        layers.MaxPooling2D(pool_size=(2, 2)),\n",
        "        layers.Flatten(),\n",
        "        layers.Dense(120, activation='relu'),\n",
        "        layers.Dense(84, activation='relu'),\n",
        "        layers.Dense(num_classes, activation='softmax')\n",
        "    ])\n",
        "\n",
        "    # Compile the model\n",
        "    model.compile(optimizer='adam',\n",
        "                  loss=losses.SparseCategoricalCrossentropy(),\n",
        "                  metrics=['accuracy'])\n",
        "\n",
        "    return model\n",
        "\n",
        "lenet = build_lenet()\n",
        "\n",
        "history = lenet.fit(X_train_split, y_train_split, epochs=20, \n",
        "          validation_data=(X_val_split, y_val_split))"
      ],
      "metadata": {
        "colab": {
          "base_uri": "https://localhost:8080/"
        },
        "id": "1bwsI7Ah2aKO",
        "outputId": "b127cc1f-cc65-4182-eec9-7c2e55cdfda2"
      },
      "execution_count": 43,
      "outputs": [
        {
          "output_type": "stream",
          "name": "stdout",
          "text": [
            "Epoch 1/20\n",
            "1500/1500 [==============================] - 43s 28ms/step - loss: 0.5688 - accuracy: 0.9014 - val_loss: 0.1206 - val_accuracy: 0.9639\n",
            "Epoch 2/20\n",
            "1500/1500 [==============================] - 30s 20ms/step - loss: 0.1075 - accuracy: 0.9674 - val_loss: 0.0897 - val_accuracy: 0.9731\n",
            "Epoch 3/20\n",
            "1500/1500 [==============================] - 31s 21ms/step - loss: 0.0780 - accuracy: 0.9769 - val_loss: 0.0727 - val_accuracy: 0.9791\n",
            "Epoch 4/20\n",
            "1500/1500 [==============================] - 33s 22ms/step - loss: 0.0649 - accuracy: 0.9802 - val_loss: 0.0979 - val_accuracy: 0.9722\n",
            "Epoch 5/20\n",
            "1500/1500 [==============================] - 31s 21ms/step - loss: 0.0572 - accuracy: 0.9833 - val_loss: 0.0691 - val_accuracy: 0.9807\n",
            "Epoch 6/20\n",
            "1500/1500 [==============================] - 30s 20ms/step - loss: 0.0466 - accuracy: 0.9856 - val_loss: 0.0569 - val_accuracy: 0.9840\n",
            "Epoch 7/20\n",
            "1500/1500 [==============================] - 30s 20ms/step - loss: 0.0436 - accuracy: 0.9870 - val_loss: 0.0842 - val_accuracy: 0.9785\n",
            "Epoch 8/20\n",
            "1500/1500 [==============================] - 31s 20ms/step - loss: 0.0392 - accuracy: 0.9876 - val_loss: 0.0967 - val_accuracy: 0.9772\n",
            "Epoch 9/20\n",
            "1500/1500 [==============================] - 30s 20ms/step - loss: 0.0363 - accuracy: 0.9889 - val_loss: 0.0565 - val_accuracy: 0.9868\n",
            "Epoch 10/20\n",
            "1500/1500 [==============================] - 30s 20ms/step - loss: 0.0340 - accuracy: 0.9900 - val_loss: 0.0731 - val_accuracy: 0.9839\n",
            "Epoch 11/20\n",
            "1500/1500 [==============================] - 30s 20ms/step - loss: 0.0338 - accuracy: 0.9903 - val_loss: 0.0679 - val_accuracy: 0.9845\n",
            "Epoch 12/20\n",
            "1500/1500 [==============================] - 30s 20ms/step - loss: 0.0260 - accuracy: 0.9924 - val_loss: 0.0714 - val_accuracy: 0.9847\n",
            "Epoch 13/20\n",
            "1500/1500 [==============================] - 30s 20ms/step - loss: 0.0300 - accuracy: 0.9912 - val_loss: 0.0702 - val_accuracy: 0.9852\n",
            "Epoch 14/20\n",
            "1500/1500 [==============================] - 33s 22ms/step - loss: 0.0298 - accuracy: 0.9914 - val_loss: 0.0926 - val_accuracy: 0.9799\n",
            "Epoch 15/20\n",
            "1500/1500 [==============================] - 30s 20ms/step - loss: 0.0244 - accuracy: 0.9930 - val_loss: 0.0774 - val_accuracy: 0.9858\n",
            "Epoch 16/20\n",
            "1500/1500 [==============================] - 32s 21ms/step - loss: 0.0266 - accuracy: 0.9930 - val_loss: 0.0718 - val_accuracy: 0.9858\n",
            "Epoch 17/20\n",
            "1500/1500 [==============================] - 31s 20ms/step - loss: 0.0257 - accuracy: 0.9929 - val_loss: 0.0802 - val_accuracy: 0.9848\n",
            "Epoch 18/20\n",
            "1500/1500 [==============================] - 30s 20ms/step - loss: 0.0218 - accuracy: 0.9940 - val_loss: 0.0872 - val_accuracy: 0.9843\n",
            "Epoch 19/20\n",
            "1500/1500 [==============================] - 31s 21ms/step - loss: 0.0240 - accuracy: 0.9934 - val_loss: 0.0649 - val_accuracy: 0.9864\n",
            "Epoch 20/20\n",
            "1500/1500 [==============================] - 43s 29ms/step - loss: 0.0208 - accuracy: 0.9940 - val_loss: 0.0962 - val_accuracy: 0.9834\n"
          ]
        }
      ]
    },
    {
      "cell_type": "code",
      "source": [
        "# Plot loss and accuracy\n",
        "def plot_history(history):\n",
        "    # Plot training & validation accuracy values\n",
        "    plt.plot(history.history['accuracy'])\n",
        "    plt.plot(history.history['val_accuracy'])\n",
        "    plt.title('Model accuracy')\n",
        "    plt.ylabel('Accuracy')\n",
        "    plt.xlabel('Epoch')\n",
        "    plt.legend(['Train', 'Validation'], loc='upper left')\n",
        "    plt.show()\n",
        "\n",
        "    # Plot training & validation loss values\n",
        "    plt.plot(history.history['loss'])\n",
        "    plt.plot(history.history['val_loss'])\n",
        "    plt.title('Model loss')\n",
        "    plt.ylabel('Loss')\n",
        "    plt.xlabel('Epoch')\n",
        "    plt.legend(['Train', 'Validation'], loc='upper left')\n",
        "    plt.show()\n",
        "\n",
        "plot_history(history)"
      ],
      "metadata": {
        "colab": {
          "base_uri": "https://localhost:8080/",
          "height": 927
        },
        "id": "4yUClyUo2-tV",
        "outputId": "6b4e3e81-1374-46d9-d69f-637e96250ec1"
      },
      "execution_count": 44,
      "outputs": [
        {
          "output_type": "display_data",
          "data": {
            "text/plain": [
              "<Figure size 640x480 with 1 Axes>"
            ],
            "image/png": "[encoded data removed]"
          },
          "metadata": {}
        },
        {
          "output_type": "display_data",
          "data": {
            "text/plain": [
              "<Figure size 640x480 with 1 Axes>"
            ],
            "image/png": "[encoded data removed]"
          },
          "metadata": {}
        }
      ]
    },
    {
      "cell_type": "code",
      "source": [
        "lenet_preds = lenet.predict(X_test)\n",
        "\n",
        "test_loss, test_acc = lenet.evaluate(X_test, y_test)\n",
        "print(f'Test accuracy: {test_acc}')"
      ],
      "metadata": {
        "colab": {
          "base_uri": "https://localhost:8080/"
        },
        "id": "sa0enwsl92TU",
        "outputId": "41a47b4b-4fc6-4481-9141-a3549e3e1069"
      },
      "execution_count": 45,
      "outputs": [
        {
          "output_type": "stream",
          "name": "stdout",
          "text": [
            "313/313 [==============================] - 2s 7ms/step\n",
            "313/313 [==============================] - 2s 7ms/step - loss: 0.0755 - accuracy: 0.9840\n",
            "Test accuracy: 0.984000027179718\n"
          ]
        }
      ]
    },
    {
      "cell_type": "markdown",
      "source": [
        "Substantially better. However, it looks to be overfitting on both the train and val data a little bit, especially toward the end of the training cycle... Adding a few callbacks could easily address this (e.g. early stopping, learning rate scheduler, and reduce LR on plateau), but we won't worry about them here because **98.5% accuracy** is already pretty good."
      ],
      "metadata": {
        "id": "Wr8ZImie69-2"
      }
    },
    {
      "cell_type": "markdown",
      "source": [
        "## [ **Thank you** ]"
      ],
      "metadata": {
        "id": "FXBS7Wdb-m2u"
      }
    }
  ]
}